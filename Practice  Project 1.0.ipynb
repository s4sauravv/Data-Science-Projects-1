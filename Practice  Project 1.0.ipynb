{
 "cells": [
  {
   "cell_type": "code",
   "execution_count": 34,
   "id": "b3392f3c",
   "metadata": {},
   "outputs": [],
   "source": [
    "#Import the Dataset.\n",
    "import pandas as pd\n",
    "import numpy as np"
   ]
  },
  {
   "cell_type": "code",
   "execution_count": 35,
   "id": "20efc017",
   "metadata": {},
   "outputs": [
    {
     "data": {
      "text/html": [
       "<div>\n",
       "<style scoped>\n",
       "    .dataframe tbody tr th:only-of-type {\n",
       "        vertical-align: middle;\n",
       "    }\n",
       "\n",
       "    .dataframe tbody tr th {\n",
       "        vertical-align: top;\n",
       "    }\n",
       "\n",
       "    .dataframe thead th {\n",
       "        text-align: right;\n",
       "    }\n",
       "</style>\n",
       "<table border=\"1\" class=\"dataframe\">\n",
       "  <thead>\n",
       "    <tr style=\"text-align: right;\">\n",
       "      <th></th>\n",
       "      <th>customerID</th>\n",
       "      <th>gender</th>\n",
       "      <th>SeniorCitizen</th>\n",
       "      <th>Partner</th>\n",
       "      <th>Dependents</th>\n",
       "      <th>tenure</th>\n",
       "      <th>PhoneService</th>\n",
       "      <th>MultipleLines</th>\n",
       "      <th>InternetService</th>\n",
       "      <th>OnlineSecurity</th>\n",
       "      <th>...</th>\n",
       "      <th>DeviceProtection</th>\n",
       "      <th>TechSupport</th>\n",
       "      <th>StreamingTV</th>\n",
       "      <th>StreamingMovies</th>\n",
       "      <th>Contract</th>\n",
       "      <th>PaperlessBilling</th>\n",
       "      <th>PaymentMethod</th>\n",
       "      <th>MonthlyCharges</th>\n",
       "      <th>TotalCharges</th>\n",
       "      <th>Churn</th>\n",
       "    </tr>\n",
       "  </thead>\n",
       "  <tbody>\n",
       "    <tr>\n",
       "      <th>0</th>\n",
       "      <td>7590-VHVEG</td>\n",
       "      <td>Female</td>\n",
       "      <td>0</td>\n",
       "      <td>Yes</td>\n",
       "      <td>No</td>\n",
       "      <td>1</td>\n",
       "      <td>No</td>\n",
       "      <td>No phone service</td>\n",
       "      <td>DSL</td>\n",
       "      <td>No</td>\n",
       "      <td>...</td>\n",
       "      <td>No</td>\n",
       "      <td>No</td>\n",
       "      <td>No</td>\n",
       "      <td>No</td>\n",
       "      <td>Month-to-month</td>\n",
       "      <td>Yes</td>\n",
       "      <td>Electronic check</td>\n",
       "      <td>29.85</td>\n",
       "      <td>29.85</td>\n",
       "      <td>No</td>\n",
       "    </tr>\n",
       "    <tr>\n",
       "      <th>1</th>\n",
       "      <td>5575-GNVDE</td>\n",
       "      <td>Male</td>\n",
       "      <td>0</td>\n",
       "      <td>No</td>\n",
       "      <td>No</td>\n",
       "      <td>34</td>\n",
       "      <td>Yes</td>\n",
       "      <td>No</td>\n",
       "      <td>DSL</td>\n",
       "      <td>Yes</td>\n",
       "      <td>...</td>\n",
       "      <td>Yes</td>\n",
       "      <td>No</td>\n",
       "      <td>No</td>\n",
       "      <td>No</td>\n",
       "      <td>One year</td>\n",
       "      <td>No</td>\n",
       "      <td>Mailed check</td>\n",
       "      <td>56.95</td>\n",
       "      <td>1889.5</td>\n",
       "      <td>No</td>\n",
       "    </tr>\n",
       "    <tr>\n",
       "      <th>2</th>\n",
       "      <td>3668-QPYBK</td>\n",
       "      <td>Male</td>\n",
       "      <td>0</td>\n",
       "      <td>No</td>\n",
       "      <td>No</td>\n",
       "      <td>2</td>\n",
       "      <td>Yes</td>\n",
       "      <td>No</td>\n",
       "      <td>DSL</td>\n",
       "      <td>Yes</td>\n",
       "      <td>...</td>\n",
       "      <td>No</td>\n",
       "      <td>No</td>\n",
       "      <td>No</td>\n",
       "      <td>No</td>\n",
       "      <td>Month-to-month</td>\n",
       "      <td>Yes</td>\n",
       "      <td>Mailed check</td>\n",
       "      <td>53.85</td>\n",
       "      <td>108.15</td>\n",
       "      <td>Yes</td>\n",
       "    </tr>\n",
       "    <tr>\n",
       "      <th>3</th>\n",
       "      <td>7795-CFOCW</td>\n",
       "      <td>Male</td>\n",
       "      <td>0</td>\n",
       "      <td>No</td>\n",
       "      <td>No</td>\n",
       "      <td>45</td>\n",
       "      <td>No</td>\n",
       "      <td>No phone service</td>\n",
       "      <td>DSL</td>\n",
       "      <td>Yes</td>\n",
       "      <td>...</td>\n",
       "      <td>Yes</td>\n",
       "      <td>Yes</td>\n",
       "      <td>No</td>\n",
       "      <td>No</td>\n",
       "      <td>One year</td>\n",
       "      <td>No</td>\n",
       "      <td>Bank transfer (automatic)</td>\n",
       "      <td>42.30</td>\n",
       "      <td>1840.75</td>\n",
       "      <td>No</td>\n",
       "    </tr>\n",
       "    <tr>\n",
       "      <th>4</th>\n",
       "      <td>9237-HQITU</td>\n",
       "      <td>Female</td>\n",
       "      <td>0</td>\n",
       "      <td>No</td>\n",
       "      <td>No</td>\n",
       "      <td>2</td>\n",
       "      <td>Yes</td>\n",
       "      <td>No</td>\n",
       "      <td>Fiber optic</td>\n",
       "      <td>No</td>\n",
       "      <td>...</td>\n",
       "      <td>No</td>\n",
       "      <td>No</td>\n",
       "      <td>No</td>\n",
       "      <td>No</td>\n",
       "      <td>Month-to-month</td>\n",
       "      <td>Yes</td>\n",
       "      <td>Electronic check</td>\n",
       "      <td>70.70</td>\n",
       "      <td>151.65</td>\n",
       "      <td>Yes</td>\n",
       "    </tr>\n",
       "    <tr>\n",
       "      <th>...</th>\n",
       "      <td>...</td>\n",
       "      <td>...</td>\n",
       "      <td>...</td>\n",
       "      <td>...</td>\n",
       "      <td>...</td>\n",
       "      <td>...</td>\n",
       "      <td>...</td>\n",
       "      <td>...</td>\n",
       "      <td>...</td>\n",
       "      <td>...</td>\n",
       "      <td>...</td>\n",
       "      <td>...</td>\n",
       "      <td>...</td>\n",
       "      <td>...</td>\n",
       "      <td>...</td>\n",
       "      <td>...</td>\n",
       "      <td>...</td>\n",
       "      <td>...</td>\n",
       "      <td>...</td>\n",
       "      <td>...</td>\n",
       "      <td>...</td>\n",
       "    </tr>\n",
       "    <tr>\n",
       "      <th>7038</th>\n",
       "      <td>6840-RESVB</td>\n",
       "      <td>Male</td>\n",
       "      <td>0</td>\n",
       "      <td>Yes</td>\n",
       "      <td>Yes</td>\n",
       "      <td>24</td>\n",
       "      <td>Yes</td>\n",
       "      <td>Yes</td>\n",
       "      <td>DSL</td>\n",
       "      <td>Yes</td>\n",
       "      <td>...</td>\n",
       "      <td>Yes</td>\n",
       "      <td>Yes</td>\n",
       "      <td>Yes</td>\n",
       "      <td>Yes</td>\n",
       "      <td>One year</td>\n",
       "      <td>Yes</td>\n",
       "      <td>Mailed check</td>\n",
       "      <td>84.80</td>\n",
       "      <td>1990.5</td>\n",
       "      <td>No</td>\n",
       "    </tr>\n",
       "    <tr>\n",
       "      <th>7039</th>\n",
       "      <td>2234-XADUH</td>\n",
       "      <td>Female</td>\n",
       "      <td>0</td>\n",
       "      <td>Yes</td>\n",
       "      <td>Yes</td>\n",
       "      <td>72</td>\n",
       "      <td>Yes</td>\n",
       "      <td>Yes</td>\n",
       "      <td>Fiber optic</td>\n",
       "      <td>No</td>\n",
       "      <td>...</td>\n",
       "      <td>Yes</td>\n",
       "      <td>No</td>\n",
       "      <td>Yes</td>\n",
       "      <td>Yes</td>\n",
       "      <td>One year</td>\n",
       "      <td>Yes</td>\n",
       "      <td>Credit card (automatic)</td>\n",
       "      <td>103.20</td>\n",
       "      <td>7362.9</td>\n",
       "      <td>No</td>\n",
       "    </tr>\n",
       "    <tr>\n",
       "      <th>7040</th>\n",
       "      <td>4801-JZAZL</td>\n",
       "      <td>Female</td>\n",
       "      <td>0</td>\n",
       "      <td>Yes</td>\n",
       "      <td>Yes</td>\n",
       "      <td>11</td>\n",
       "      <td>No</td>\n",
       "      <td>No phone service</td>\n",
       "      <td>DSL</td>\n",
       "      <td>Yes</td>\n",
       "      <td>...</td>\n",
       "      <td>No</td>\n",
       "      <td>No</td>\n",
       "      <td>No</td>\n",
       "      <td>No</td>\n",
       "      <td>Month-to-month</td>\n",
       "      <td>Yes</td>\n",
       "      <td>Electronic check</td>\n",
       "      <td>29.60</td>\n",
       "      <td>346.45</td>\n",
       "      <td>No</td>\n",
       "    </tr>\n",
       "    <tr>\n",
       "      <th>7041</th>\n",
       "      <td>8361-LTMKD</td>\n",
       "      <td>Male</td>\n",
       "      <td>1</td>\n",
       "      <td>Yes</td>\n",
       "      <td>No</td>\n",
       "      <td>4</td>\n",
       "      <td>Yes</td>\n",
       "      <td>Yes</td>\n",
       "      <td>Fiber optic</td>\n",
       "      <td>No</td>\n",
       "      <td>...</td>\n",
       "      <td>No</td>\n",
       "      <td>No</td>\n",
       "      <td>No</td>\n",
       "      <td>No</td>\n",
       "      <td>Month-to-month</td>\n",
       "      <td>Yes</td>\n",
       "      <td>Mailed check</td>\n",
       "      <td>74.40</td>\n",
       "      <td>306.6</td>\n",
       "      <td>Yes</td>\n",
       "    </tr>\n",
       "    <tr>\n",
       "      <th>7042</th>\n",
       "      <td>3186-AJIEK</td>\n",
       "      <td>Male</td>\n",
       "      <td>0</td>\n",
       "      <td>No</td>\n",
       "      <td>No</td>\n",
       "      <td>66</td>\n",
       "      <td>Yes</td>\n",
       "      <td>No</td>\n",
       "      <td>Fiber optic</td>\n",
       "      <td>Yes</td>\n",
       "      <td>...</td>\n",
       "      <td>Yes</td>\n",
       "      <td>Yes</td>\n",
       "      <td>Yes</td>\n",
       "      <td>Yes</td>\n",
       "      <td>Two year</td>\n",
       "      <td>Yes</td>\n",
       "      <td>Bank transfer (automatic)</td>\n",
       "      <td>105.65</td>\n",
       "      <td>6844.5</td>\n",
       "      <td>No</td>\n",
       "    </tr>\n",
       "  </tbody>\n",
       "</table>\n",
       "<p>7043 rows × 21 columns</p>\n",
       "</div>"
      ],
      "text/plain": [
       "      customerID  gender  SeniorCitizen Partner Dependents  tenure  \\\n",
       "0     7590-VHVEG  Female              0     Yes         No       1   \n",
       "1     5575-GNVDE    Male              0      No         No      34   \n",
       "2     3668-QPYBK    Male              0      No         No       2   \n",
       "3     7795-CFOCW    Male              0      No         No      45   \n",
       "4     9237-HQITU  Female              0      No         No       2   \n",
       "...          ...     ...            ...     ...        ...     ...   \n",
       "7038  6840-RESVB    Male              0     Yes        Yes      24   \n",
       "7039  2234-XADUH  Female              0     Yes        Yes      72   \n",
       "7040  4801-JZAZL  Female              0     Yes        Yes      11   \n",
       "7041  8361-LTMKD    Male              1     Yes         No       4   \n",
       "7042  3186-AJIEK    Male              0      No         No      66   \n",
       "\n",
       "     PhoneService     MultipleLines InternetService OnlineSecurity  ...  \\\n",
       "0              No  No phone service             DSL             No  ...   \n",
       "1             Yes                No             DSL            Yes  ...   \n",
       "2             Yes                No             DSL            Yes  ...   \n",
       "3              No  No phone service             DSL            Yes  ...   \n",
       "4             Yes                No     Fiber optic             No  ...   \n",
       "...           ...               ...             ...            ...  ...   \n",
       "7038          Yes               Yes             DSL            Yes  ...   \n",
       "7039          Yes               Yes     Fiber optic             No  ...   \n",
       "7040           No  No phone service             DSL            Yes  ...   \n",
       "7041          Yes               Yes     Fiber optic             No  ...   \n",
       "7042          Yes                No     Fiber optic            Yes  ...   \n",
       "\n",
       "     DeviceProtection TechSupport StreamingTV StreamingMovies        Contract  \\\n",
       "0                  No          No          No              No  Month-to-month   \n",
       "1                 Yes          No          No              No        One year   \n",
       "2                  No          No          No              No  Month-to-month   \n",
       "3                 Yes         Yes          No              No        One year   \n",
       "4                  No          No          No              No  Month-to-month   \n",
       "...               ...         ...         ...             ...             ...   \n",
       "7038              Yes         Yes         Yes             Yes        One year   \n",
       "7039              Yes          No         Yes             Yes        One year   \n",
       "7040               No          No          No              No  Month-to-month   \n",
       "7041               No          No          No              No  Month-to-month   \n",
       "7042              Yes         Yes         Yes             Yes        Two year   \n",
       "\n",
       "     PaperlessBilling              PaymentMethod MonthlyCharges  TotalCharges  \\\n",
       "0                 Yes           Electronic check          29.85         29.85   \n",
       "1                  No               Mailed check          56.95        1889.5   \n",
       "2                 Yes               Mailed check          53.85        108.15   \n",
       "3                  No  Bank transfer (automatic)          42.30       1840.75   \n",
       "4                 Yes           Electronic check          70.70        151.65   \n",
       "...               ...                        ...            ...           ...   \n",
       "7038              Yes               Mailed check          84.80        1990.5   \n",
       "7039              Yes    Credit card (automatic)         103.20        7362.9   \n",
       "7040              Yes           Electronic check          29.60        346.45   \n",
       "7041              Yes               Mailed check          74.40         306.6   \n",
       "7042              Yes  Bank transfer (automatic)         105.65        6844.5   \n",
       "\n",
       "     Churn  \n",
       "0       No  \n",
       "1       No  \n",
       "2      Yes  \n",
       "3       No  \n",
       "4      Yes  \n",
       "...    ...  \n",
       "7038    No  \n",
       "7039    No  \n",
       "7040    No  \n",
       "7041   Yes  \n",
       "7042    No  \n",
       "\n",
       "[7043 rows x 21 columns]"
      ]
     },
     "execution_count": 35,
     "metadata": {},
     "output_type": "execute_result"
    }
   ],
   "source": [
    "data=pd.read_csv(r\"C:\\Users\\shriv\\OneDrive\\Desktop\\WA_Fn-UseC_-Telco-Customer-Churn.csv\")\n",
    "data"
   ]
  },
  {
   "cell_type": "code",
   "execution_count": 36,
   "id": "9ebd17dc",
   "metadata": {},
   "outputs": [
    {
     "data": {
      "text/plain": [
       "Index(['customerID', 'gender', 'SeniorCitizen', 'Partner', 'Dependents',\n",
       "       'tenure', 'PhoneService', 'MultipleLines', 'InternetService',\n",
       "       'OnlineSecurity', 'OnlineBackup', 'DeviceProtection', 'TechSupport',\n",
       "       'StreamingTV', 'StreamingMovies', 'Contract', 'PaperlessBilling',\n",
       "       'PaymentMethod', 'MonthlyCharges', 'TotalCharges', 'Churn'],\n",
       "      dtype='object')"
      ]
     },
     "execution_count": 36,
     "metadata": {},
     "output_type": "execute_result"
    }
   ],
   "source": [
    "data.columns"
   ]
  },
  {
   "cell_type": "markdown",
   "id": "ac74c97c",
   "metadata": {},
   "source": [
    "# Now we will discuss the problem statement.\n",
    "\n",
    "\n",
    "The dataset contains the data of the customer on the basis of the data we have to predict the total charges by the customer . The dataset contains the data like 'customerID', 'gender', 'SeniorCitizen', 'Partner', 'Dependents''tenure', 'PhoneService', 'MultipleLines', 'InternetService','OnlineSecurity', 'OnlineBackup', 'DeviceProtection', 'TechSupport', 'StreamingTV', 'StreamingMovies', 'Contract', 'PaperlessBilling','PaymentMethod', 'MonthlyCharges', 'TotalCharges',and 'Churn'.\n",
    "\n",
    "\n",
    "\n",
    "\n",
    "\n",
    "In the above dataset the target is to predict the 'total charges' paid by the customer.\n",
    "\n",
    "\n",
    "\n",
    "\n",
    "\n",
    "\n",
    "Churn rate (Sometimes called attrition rate), in its broadest sense ,is a measure of the number of indviduals or items moving out of collective group over a specific period .it is one of two primary factors that determine the steady state level of customers a business will support the term is used in many contexts , but is most widely applied in business with respect to a contractual customer base . For example in business with a subscriber based service mobel such as mobile telephone network and pay TV operator . The term is also used to refer to participant turnover in peer to peer networks .Churn rate is an input into customer lifetime value modeling lifetime value modeling an can be part of a simulator used to measure return on marketing investiment using marketing mix modeling.\n",
    "     "
   ]
  },
  {
   "cell_type": "markdown",
   "id": "1d6bb337",
   "metadata": {},
   "source": [
    "# Checking Nan Values"
   ]
  },
  {
   "cell_type": "code",
   "execution_count": 37,
   "id": "9082dbe7",
   "metadata": {},
   "outputs": [
    {
     "data": {
      "text/plain": [
       "customerID          0\n",
       "gender              0\n",
       "SeniorCitizen       0\n",
       "Partner             0\n",
       "Dependents          0\n",
       "tenure              0\n",
       "PhoneService        0\n",
       "MultipleLines       0\n",
       "InternetService     0\n",
       "OnlineSecurity      0\n",
       "OnlineBackup        0\n",
       "DeviceProtection    0\n",
       "TechSupport         0\n",
       "StreamingTV         0\n",
       "StreamingMovies     0\n",
       "Contract            0\n",
       "PaperlessBilling    0\n",
       "PaymentMethod       0\n",
       "MonthlyCharges      0\n",
       "TotalCharges        0\n",
       "Churn               0\n",
       "dtype: int64"
      ]
     },
     "execution_count": 37,
     "metadata": {},
     "output_type": "execute_result"
    }
   ],
   "source": [
    "data.isna().sum()"
   ]
  },
  {
   "cell_type": "markdown",
   "id": "84948af9",
   "metadata": {},
   "source": [
    "#  Checking the datatype of the columns\n"
   ]
  },
  {
   "cell_type": "code",
   "execution_count": 38,
   "id": "0865e4e4",
   "metadata": {},
   "outputs": [
    {
     "data": {
      "text/plain": [
       "customerID           object\n",
       "gender               object\n",
       "SeniorCitizen         int64\n",
       "Partner              object\n",
       "Dependents           object\n",
       "tenure                int64\n",
       "PhoneService         object\n",
       "MultipleLines        object\n",
       "InternetService      object\n",
       "OnlineSecurity       object\n",
       "OnlineBackup         object\n",
       "DeviceProtection     object\n",
       "TechSupport          object\n",
       "StreamingTV          object\n",
       "StreamingMovies      object\n",
       "Contract             object\n",
       "PaperlessBilling     object\n",
       "PaymentMethod        object\n",
       "MonthlyCharges      float64\n",
       "TotalCharges         object\n",
       "Churn                object\n",
       "dtype: object"
      ]
     },
     "execution_count": 38,
     "metadata": {},
     "output_type": "execute_result"
    }
   ],
   "source": [
    "data.dtypes"
   ]
  },
  {
   "cell_type": "markdown",
   "id": "e8940803",
   "metadata": {},
   "source": [
    "We can observe that the \"Total Charges\" has continuous data it is an object type .Let us handle this column."
   ]
  },
  {
   "cell_type": "code",
   "execution_count": 39,
   "id": "26a7cbfc",
   "metadata": {},
   "outputs": [
    {
     "data": {
      "text/plain": [
       "array(['29.85', '1889.5', '108.15', ..., '346.45', '306.6', '6844.5'],\n",
       "      dtype=object)"
      ]
     },
     "execution_count": 39,
     "metadata": {},
     "output_type": "execute_result"
    }
   ],
   "source": [
    "data['TotalCharges'].unique()"
   ]
  },
  {
   "cell_type": "code",
   "execution_count": 40,
   "id": "77fcf473",
   "metadata": {},
   "outputs": [
    {
     "data": {
      "text/plain": [
       "array(['No', 'Yes', 'No internet service'], dtype=object)"
      ]
     },
     "execution_count": 40,
     "metadata": {},
     "output_type": "execute_result"
    }
   ],
   "source": [
    "data['StreamingMovies'].unique()"
   ]
  },
  {
   "cell_type": "code",
   "execution_count": 41,
   "id": "2af332b7",
   "metadata": {},
   "outputs": [
    {
     "data": {
      "text/plain": [
       "6531"
      ]
     },
     "execution_count": 41,
     "metadata": {},
     "output_type": "execute_result"
    }
   ],
   "source": [
    "data['TotalCharges'].nunique()#Number of unique values in total charges column"
   ]
  },
  {
   "cell_type": "code",
   "execution_count": 42,
   "id": "922afb34",
   "metadata": {},
   "outputs": [
    {
     "data": {
      "text/plain": [
       "7043"
      ]
     },
     "execution_count": 42,
     "metadata": {},
     "output_type": "execute_result"
    }
   ],
   "source": [
    "data.shape[0]"
   ]
  },
  {
   "cell_type": "code",
   "execution_count": 43,
   "id": "38f8cb23",
   "metadata": {},
   "outputs": [
    {
     "data": {
      "text/html": [
       "<div>\n",
       "<style scoped>\n",
       "    .dataframe tbody tr th:only-of-type {\n",
       "        vertical-align: middle;\n",
       "    }\n",
       "\n",
       "    .dataframe tbody tr th {\n",
       "        vertical-align: top;\n",
       "    }\n",
       "\n",
       "    .dataframe thead th {\n",
       "        text-align: right;\n",
       "    }\n",
       "</style>\n",
       "<table border=\"1\" class=\"dataframe\">\n",
       "  <thead>\n",
       "    <tr style=\"text-align: right;\">\n",
       "      <th></th>\n",
       "      <th>customerID</th>\n",
       "      <th>gender</th>\n",
       "      <th>SeniorCitizen</th>\n",
       "      <th>Partner</th>\n",
       "      <th>Dependents</th>\n",
       "      <th>tenure</th>\n",
       "      <th>PhoneService</th>\n",
       "      <th>MultipleLines</th>\n",
       "      <th>InternetService</th>\n",
       "      <th>OnlineSecurity</th>\n",
       "      <th>...</th>\n",
       "      <th>DeviceProtection</th>\n",
       "      <th>TechSupport</th>\n",
       "      <th>StreamingTV</th>\n",
       "      <th>StreamingMovies</th>\n",
       "      <th>Contract</th>\n",
       "      <th>PaperlessBilling</th>\n",
       "      <th>PaymentMethod</th>\n",
       "      <th>MonthlyCharges</th>\n",
       "      <th>TotalCharges</th>\n",
       "      <th>Churn</th>\n",
       "    </tr>\n",
       "  </thead>\n",
       "  <tbody>\n",
       "    <tr>\n",
       "      <th>488</th>\n",
       "      <td>4472-LVYGI</td>\n",
       "      <td>Female</td>\n",
       "      <td>0</td>\n",
       "      <td>Yes</td>\n",
       "      <td>Yes</td>\n",
       "      <td>0</td>\n",
       "      <td>No</td>\n",
       "      <td>No phone service</td>\n",
       "      <td>DSL</td>\n",
       "      <td>Yes</td>\n",
       "      <td>...</td>\n",
       "      <td>Yes</td>\n",
       "      <td>Yes</td>\n",
       "      <td>Yes</td>\n",
       "      <td>No</td>\n",
       "      <td>Two year</td>\n",
       "      <td>Yes</td>\n",
       "      <td>Bank transfer (automatic)</td>\n",
       "      <td>52.55</td>\n",
       "      <td></td>\n",
       "      <td>No</td>\n",
       "    </tr>\n",
       "    <tr>\n",
       "      <th>753</th>\n",
       "      <td>3115-CZMZD</td>\n",
       "      <td>Male</td>\n",
       "      <td>0</td>\n",
       "      <td>No</td>\n",
       "      <td>Yes</td>\n",
       "      <td>0</td>\n",
       "      <td>Yes</td>\n",
       "      <td>No</td>\n",
       "      <td>No</td>\n",
       "      <td>No internet service</td>\n",
       "      <td>...</td>\n",
       "      <td>No internet service</td>\n",
       "      <td>No internet service</td>\n",
       "      <td>No internet service</td>\n",
       "      <td>No internet service</td>\n",
       "      <td>Two year</td>\n",
       "      <td>No</td>\n",
       "      <td>Mailed check</td>\n",
       "      <td>20.25</td>\n",
       "      <td></td>\n",
       "      <td>No</td>\n",
       "    </tr>\n",
       "    <tr>\n",
       "      <th>936</th>\n",
       "      <td>5709-LVOEQ</td>\n",
       "      <td>Female</td>\n",
       "      <td>0</td>\n",
       "      <td>Yes</td>\n",
       "      <td>Yes</td>\n",
       "      <td>0</td>\n",
       "      <td>Yes</td>\n",
       "      <td>No</td>\n",
       "      <td>DSL</td>\n",
       "      <td>Yes</td>\n",
       "      <td>...</td>\n",
       "      <td>Yes</td>\n",
       "      <td>No</td>\n",
       "      <td>Yes</td>\n",
       "      <td>Yes</td>\n",
       "      <td>Two year</td>\n",
       "      <td>No</td>\n",
       "      <td>Mailed check</td>\n",
       "      <td>80.85</td>\n",
       "      <td></td>\n",
       "      <td>No</td>\n",
       "    </tr>\n",
       "    <tr>\n",
       "      <th>1082</th>\n",
       "      <td>4367-NUYAO</td>\n",
       "      <td>Male</td>\n",
       "      <td>0</td>\n",
       "      <td>Yes</td>\n",
       "      <td>Yes</td>\n",
       "      <td>0</td>\n",
       "      <td>Yes</td>\n",
       "      <td>Yes</td>\n",
       "      <td>No</td>\n",
       "      <td>No internet service</td>\n",
       "      <td>...</td>\n",
       "      <td>No internet service</td>\n",
       "      <td>No internet service</td>\n",
       "      <td>No internet service</td>\n",
       "      <td>No internet service</td>\n",
       "      <td>Two year</td>\n",
       "      <td>No</td>\n",
       "      <td>Mailed check</td>\n",
       "      <td>25.75</td>\n",
       "      <td></td>\n",
       "      <td>No</td>\n",
       "    </tr>\n",
       "    <tr>\n",
       "      <th>1340</th>\n",
       "      <td>1371-DWPAZ</td>\n",
       "      <td>Female</td>\n",
       "      <td>0</td>\n",
       "      <td>Yes</td>\n",
       "      <td>Yes</td>\n",
       "      <td>0</td>\n",
       "      <td>No</td>\n",
       "      <td>No phone service</td>\n",
       "      <td>DSL</td>\n",
       "      <td>Yes</td>\n",
       "      <td>...</td>\n",
       "      <td>Yes</td>\n",
       "      <td>Yes</td>\n",
       "      <td>Yes</td>\n",
       "      <td>No</td>\n",
       "      <td>Two year</td>\n",
       "      <td>No</td>\n",
       "      <td>Credit card (automatic)</td>\n",
       "      <td>56.05</td>\n",
       "      <td></td>\n",
       "      <td>No</td>\n",
       "    </tr>\n",
       "    <tr>\n",
       "      <th>3331</th>\n",
       "      <td>7644-OMVMY</td>\n",
       "      <td>Male</td>\n",
       "      <td>0</td>\n",
       "      <td>Yes</td>\n",
       "      <td>Yes</td>\n",
       "      <td>0</td>\n",
       "      <td>Yes</td>\n",
       "      <td>No</td>\n",
       "      <td>No</td>\n",
       "      <td>No internet service</td>\n",
       "      <td>...</td>\n",
       "      <td>No internet service</td>\n",
       "      <td>No internet service</td>\n",
       "      <td>No internet service</td>\n",
       "      <td>No internet service</td>\n",
       "      <td>Two year</td>\n",
       "      <td>No</td>\n",
       "      <td>Mailed check</td>\n",
       "      <td>19.85</td>\n",
       "      <td></td>\n",
       "      <td>No</td>\n",
       "    </tr>\n",
       "    <tr>\n",
       "      <th>3826</th>\n",
       "      <td>3213-VVOLG</td>\n",
       "      <td>Male</td>\n",
       "      <td>0</td>\n",
       "      <td>Yes</td>\n",
       "      <td>Yes</td>\n",
       "      <td>0</td>\n",
       "      <td>Yes</td>\n",
       "      <td>Yes</td>\n",
       "      <td>No</td>\n",
       "      <td>No internet service</td>\n",
       "      <td>...</td>\n",
       "      <td>No internet service</td>\n",
       "      <td>No internet service</td>\n",
       "      <td>No internet service</td>\n",
       "      <td>No internet service</td>\n",
       "      <td>Two year</td>\n",
       "      <td>No</td>\n",
       "      <td>Mailed check</td>\n",
       "      <td>25.35</td>\n",
       "      <td></td>\n",
       "      <td>No</td>\n",
       "    </tr>\n",
       "    <tr>\n",
       "      <th>4380</th>\n",
       "      <td>2520-SGTTA</td>\n",
       "      <td>Female</td>\n",
       "      <td>0</td>\n",
       "      <td>Yes</td>\n",
       "      <td>Yes</td>\n",
       "      <td>0</td>\n",
       "      <td>Yes</td>\n",
       "      <td>No</td>\n",
       "      <td>No</td>\n",
       "      <td>No internet service</td>\n",
       "      <td>...</td>\n",
       "      <td>No internet service</td>\n",
       "      <td>No internet service</td>\n",
       "      <td>No internet service</td>\n",
       "      <td>No internet service</td>\n",
       "      <td>Two year</td>\n",
       "      <td>No</td>\n",
       "      <td>Mailed check</td>\n",
       "      <td>20.00</td>\n",
       "      <td></td>\n",
       "      <td>No</td>\n",
       "    </tr>\n",
       "    <tr>\n",
       "      <th>5218</th>\n",
       "      <td>2923-ARZLG</td>\n",
       "      <td>Male</td>\n",
       "      <td>0</td>\n",
       "      <td>Yes</td>\n",
       "      <td>Yes</td>\n",
       "      <td>0</td>\n",
       "      <td>Yes</td>\n",
       "      <td>No</td>\n",
       "      <td>No</td>\n",
       "      <td>No internet service</td>\n",
       "      <td>...</td>\n",
       "      <td>No internet service</td>\n",
       "      <td>No internet service</td>\n",
       "      <td>No internet service</td>\n",
       "      <td>No internet service</td>\n",
       "      <td>One year</td>\n",
       "      <td>Yes</td>\n",
       "      <td>Mailed check</td>\n",
       "      <td>19.70</td>\n",
       "      <td></td>\n",
       "      <td>No</td>\n",
       "    </tr>\n",
       "    <tr>\n",
       "      <th>6670</th>\n",
       "      <td>4075-WKNIU</td>\n",
       "      <td>Female</td>\n",
       "      <td>0</td>\n",
       "      <td>Yes</td>\n",
       "      <td>Yes</td>\n",
       "      <td>0</td>\n",
       "      <td>Yes</td>\n",
       "      <td>Yes</td>\n",
       "      <td>DSL</td>\n",
       "      <td>No</td>\n",
       "      <td>...</td>\n",
       "      <td>Yes</td>\n",
       "      <td>Yes</td>\n",
       "      <td>Yes</td>\n",
       "      <td>No</td>\n",
       "      <td>Two year</td>\n",
       "      <td>No</td>\n",
       "      <td>Mailed check</td>\n",
       "      <td>73.35</td>\n",
       "      <td></td>\n",
       "      <td>No</td>\n",
       "    </tr>\n",
       "    <tr>\n",
       "      <th>6754</th>\n",
       "      <td>2775-SEFEE</td>\n",
       "      <td>Male</td>\n",
       "      <td>0</td>\n",
       "      <td>No</td>\n",
       "      <td>Yes</td>\n",
       "      <td>0</td>\n",
       "      <td>Yes</td>\n",
       "      <td>Yes</td>\n",
       "      <td>DSL</td>\n",
       "      <td>Yes</td>\n",
       "      <td>...</td>\n",
       "      <td>No</td>\n",
       "      <td>Yes</td>\n",
       "      <td>No</td>\n",
       "      <td>No</td>\n",
       "      <td>Two year</td>\n",
       "      <td>Yes</td>\n",
       "      <td>Bank transfer (automatic)</td>\n",
       "      <td>61.90</td>\n",
       "      <td></td>\n",
       "      <td>No</td>\n",
       "    </tr>\n",
       "  </tbody>\n",
       "</table>\n",
       "<p>11 rows × 21 columns</p>\n",
       "</div>"
      ],
      "text/plain": [
       "      customerID  gender  SeniorCitizen Partner Dependents  tenure  \\\n",
       "488   4472-LVYGI  Female              0     Yes        Yes       0   \n",
       "753   3115-CZMZD    Male              0      No        Yes       0   \n",
       "936   5709-LVOEQ  Female              0     Yes        Yes       0   \n",
       "1082  4367-NUYAO    Male              0     Yes        Yes       0   \n",
       "1340  1371-DWPAZ  Female              0     Yes        Yes       0   \n",
       "3331  7644-OMVMY    Male              0     Yes        Yes       0   \n",
       "3826  3213-VVOLG    Male              0     Yes        Yes       0   \n",
       "4380  2520-SGTTA  Female              0     Yes        Yes       0   \n",
       "5218  2923-ARZLG    Male              0     Yes        Yes       0   \n",
       "6670  4075-WKNIU  Female              0     Yes        Yes       0   \n",
       "6754  2775-SEFEE    Male              0      No        Yes       0   \n",
       "\n",
       "     PhoneService     MultipleLines InternetService       OnlineSecurity  ...  \\\n",
       "488            No  No phone service             DSL                  Yes  ...   \n",
       "753           Yes                No              No  No internet service  ...   \n",
       "936           Yes                No             DSL                  Yes  ...   \n",
       "1082          Yes               Yes              No  No internet service  ...   \n",
       "1340           No  No phone service             DSL                  Yes  ...   \n",
       "3331          Yes                No              No  No internet service  ...   \n",
       "3826          Yes               Yes              No  No internet service  ...   \n",
       "4380          Yes                No              No  No internet service  ...   \n",
       "5218          Yes                No              No  No internet service  ...   \n",
       "6670          Yes               Yes             DSL                   No  ...   \n",
       "6754          Yes               Yes             DSL                  Yes  ...   \n",
       "\n",
       "         DeviceProtection          TechSupport          StreamingTV  \\\n",
       "488                   Yes                  Yes                  Yes   \n",
       "753   No internet service  No internet service  No internet service   \n",
       "936                   Yes                   No                  Yes   \n",
       "1082  No internet service  No internet service  No internet service   \n",
       "1340                  Yes                  Yes                  Yes   \n",
       "3331  No internet service  No internet service  No internet service   \n",
       "3826  No internet service  No internet service  No internet service   \n",
       "4380  No internet service  No internet service  No internet service   \n",
       "5218  No internet service  No internet service  No internet service   \n",
       "6670                  Yes                  Yes                  Yes   \n",
       "6754                   No                  Yes                   No   \n",
       "\n",
       "          StreamingMovies  Contract PaperlessBilling  \\\n",
       "488                    No  Two year              Yes   \n",
       "753   No internet service  Two year               No   \n",
       "936                   Yes  Two year               No   \n",
       "1082  No internet service  Two year               No   \n",
       "1340                   No  Two year               No   \n",
       "3331  No internet service  Two year               No   \n",
       "3826  No internet service  Two year               No   \n",
       "4380  No internet service  Two year               No   \n",
       "5218  No internet service  One year              Yes   \n",
       "6670                   No  Two year               No   \n",
       "6754                   No  Two year              Yes   \n",
       "\n",
       "                  PaymentMethod MonthlyCharges  TotalCharges Churn  \n",
       "488   Bank transfer (automatic)          52.55                  No  \n",
       "753                Mailed check          20.25                  No  \n",
       "936                Mailed check          80.85                  No  \n",
       "1082               Mailed check          25.75                  No  \n",
       "1340    Credit card (automatic)          56.05                  No  \n",
       "3331               Mailed check          19.85                  No  \n",
       "3826               Mailed check          25.35                  No  \n",
       "4380               Mailed check          20.00                  No  \n",
       "5218               Mailed check          19.70                  No  \n",
       "6670               Mailed check          73.35                  No  \n",
       "6754  Bank transfer (automatic)          61.90                  No  \n",
       "\n",
       "[11 rows x 21 columns]"
      ]
     },
     "execution_count": 43,
     "metadata": {},
     "output_type": "execute_result"
    }
   ],
   "source": [
    "data.loc[data['TotalCharges']==\" \"]#loc method is use to access to use the group of data."
   ]
  },
  {
   "cell_type": "markdown",
   "id": "24f0089f",
   "metadata": {},
   "source": [
    "After Some observation . We saw the some columns have spaces as the value"
   ]
  },
  {
   "cell_type": "code",
   "execution_count": 44,
   "id": "252ce659",
   "metadata": {},
   "outputs": [],
   "source": [
    "data['TotalCharges']=data['TotalCharges'].replace(\" \",np.nan)"
   ]
  },
  {
   "cell_type": "code",
   "execution_count": 45,
   "id": "811fcbda",
   "metadata": {},
   "outputs": [
    {
     "data": {
      "text/plain": [
       "customerID           0\n",
       "gender               0\n",
       "SeniorCitizen        0\n",
       "Partner              0\n",
       "Dependents           0\n",
       "tenure               0\n",
       "PhoneService         0\n",
       "MultipleLines        0\n",
       "InternetService      0\n",
       "OnlineSecurity       0\n",
       "OnlineBackup         0\n",
       "DeviceProtection     0\n",
       "TechSupport          0\n",
       "StreamingTV          0\n",
       "StreamingMovies      0\n",
       "Contract             0\n",
       "PaperlessBilling     0\n",
       "PaymentMethod        0\n",
       "MonthlyCharges       0\n",
       "TotalCharges        11\n",
       "Churn                0\n",
       "dtype: int64"
      ]
     },
     "execution_count": 45,
     "metadata": {},
     "output_type": "execute_result"
    }
   ],
   "source": [
    "data.isna().sum()"
   ]
  },
  {
   "cell_type": "markdown",
   "id": "0342b133",
   "metadata": {},
   "source": [
    "# Converting the column type from object to float."
   ]
  },
  {
   "cell_type": "code",
   "execution_count": 46,
   "id": "9366f833",
   "metadata": {},
   "outputs": [],
   "source": [
    "data['TotalCharges']=data['TotalCharges'].astype(float)"
   ]
  },
  {
   "cell_type": "code",
   "execution_count": 47,
   "id": "5f718f21",
   "metadata": {},
   "outputs": [
    {
     "data": {
      "text/plain": [
       "dtype('float64')"
      ]
     },
     "execution_count": 47,
     "metadata": {},
     "output_type": "execute_result"
    }
   ],
   "source": [
    "data.TotalCharges.dtypes"
   ]
  },
  {
   "cell_type": "markdown",
   "id": "29ca38d7",
   "metadata": {},
   "source": [
    "Now , We can see TotalCharges columns has some Space values which is replaced by nan values . Now we we will handle the nan values .\n",
    "\n",
    "\n",
    "\n",
    "\n",
    "\n",
    "Handling the nan value and replacng it with mean of the column . As the column is Continious in nature"
   ]
  },
  {
   "cell_type": "code",
   "execution_count": 48,
   "id": "bd1e1669",
   "metadata": {},
   "outputs": [
    {
     "data": {
      "text/plain": [
       "2283.3004408418697"
      ]
     },
     "execution_count": 48,
     "metadata": {},
     "output_type": "execute_result"
    }
   ],
   "source": [
    "np.mean(data['TotalCharges'])"
   ]
  },
  {
   "cell_type": "code",
   "execution_count": 49,
   "id": "06567e1b",
   "metadata": {},
   "outputs": [
    {
     "data": {
      "text/plain": [
       "customerID            4075-WKNIU\n",
       "gender                    Female\n",
       "SeniorCitizen                  0\n",
       "Partner                      Yes\n",
       "Dependents                   Yes\n",
       "tenure                         0\n",
       "PhoneService                 Yes\n",
       "MultipleLines                Yes\n",
       "InternetService              DSL\n",
       "OnlineSecurity                No\n",
       "OnlineBackup                 Yes\n",
       "DeviceProtection             Yes\n",
       "TechSupport                  Yes\n",
       "StreamingTV                  Yes\n",
       "StreamingMovies               No\n",
       "Contract                Two year\n",
       "PaperlessBilling              No\n",
       "PaymentMethod       Mailed check\n",
       "MonthlyCharges             73.35\n",
       "TotalCharges                 NaN\n",
       "Churn                         No\n",
       "Name: 6670, dtype: object"
      ]
     },
     "execution_count": 49,
     "metadata": {},
     "output_type": "execute_result"
    }
   ],
   "source": [
    "data.iloc[6670,:]#iloc method is used to access the row and column on the basis of index value."
   ]
  },
  {
   "cell_type": "code",
   "execution_count": 50,
   "id": "3cfb6425",
   "metadata": {},
   "outputs": [],
   "source": [
    "data['TotalCharges']=data['TotalCharges'].fillna(np.mean(data['TotalCharges']))"
   ]
  },
  {
   "cell_type": "code",
   "execution_count": 51,
   "id": "062034f3",
   "metadata": {},
   "outputs": [
    {
     "data": {
      "text/plain": [
       "customerID            4075-WKNIU\n",
       "gender                    Female\n",
       "SeniorCitizen                  0\n",
       "Partner                      Yes\n",
       "Dependents                   Yes\n",
       "tenure                         0\n",
       "PhoneService                 Yes\n",
       "MultipleLines                Yes\n",
       "InternetService              DSL\n",
       "OnlineSecurity                No\n",
       "OnlineBackup                 Yes\n",
       "DeviceProtection             Yes\n",
       "TechSupport                  Yes\n",
       "StreamingTV                  Yes\n",
       "StreamingMovies               No\n",
       "Contract                Two year\n",
       "PaperlessBilling              No\n",
       "PaymentMethod       Mailed check\n",
       "MonthlyCharges             73.35\n",
       "TotalCharges         2283.300441\n",
       "Churn                         No\n",
       "Name: 6670, dtype: object"
      ]
     },
     "execution_count": 51,
     "metadata": {},
     "output_type": "execute_result"
    }
   ],
   "source": [
    "data.iloc[6670,:]"
   ]
  },
  {
   "cell_type": "code",
   "execution_count": 52,
   "id": "abdb60a9",
   "metadata": {},
   "outputs": [
    {
     "data": {
      "text/plain": [
       "customerID          0\n",
       "gender              0\n",
       "SeniorCitizen       0\n",
       "Partner             0\n",
       "Dependents          0\n",
       "tenure              0\n",
       "PhoneService        0\n",
       "MultipleLines       0\n",
       "InternetService     0\n",
       "OnlineSecurity      0\n",
       "OnlineBackup        0\n",
       "DeviceProtection    0\n",
       "TechSupport         0\n",
       "StreamingTV         0\n",
       "StreamingMovies     0\n",
       "Contract            0\n",
       "PaperlessBilling    0\n",
       "PaymentMethod       0\n",
       "MonthlyCharges      0\n",
       "TotalCharges        0\n",
       "Churn               0\n",
       "dtype: int64"
      ]
     },
     "execution_count": 52,
     "metadata": {},
     "output_type": "execute_result"
    }
   ],
   "source": [
    "data.isna().sum()"
   ]
  },
  {
   "cell_type": "markdown",
   "id": "508adeb0",
   "metadata": {},
   "source": [
    "# Making DataFrame for the Nominal Data. (Selection Categorical Column) "
   ]
  },
  {
   "cell_type": "code",
   "execution_count": 53,
   "id": "e9ba276f",
   "metadata": {},
   "outputs": [],
   "source": [
    "df_visualization_nominal=data[['gender','SeniorCitizen','Partner','Dependents','PhoneService','MultipleLines','InternetService','StreamingTV','StreamingMovies','Contract','PaperlessBilling','PaymentMethod','Churn']].copy()"
   ]
  },
  {
   "cell_type": "code",
   "execution_count": 54,
   "id": "dc4c5c83",
   "metadata": {},
   "outputs": [
    {
     "data": {
      "text/html": [
       "<div>\n",
       "<style scoped>\n",
       "    .dataframe tbody tr th:only-of-type {\n",
       "        vertical-align: middle;\n",
       "    }\n",
       "\n",
       "    .dataframe tbody tr th {\n",
       "        vertical-align: top;\n",
       "    }\n",
       "\n",
       "    .dataframe thead th {\n",
       "        text-align: right;\n",
       "    }\n",
       "</style>\n",
       "<table border=\"1\" class=\"dataframe\">\n",
       "  <thead>\n",
       "    <tr style=\"text-align: right;\">\n",
       "      <th></th>\n",
       "      <th>gender</th>\n",
       "      <th>SeniorCitizen</th>\n",
       "      <th>Partner</th>\n",
       "      <th>Dependents</th>\n",
       "      <th>PhoneService</th>\n",
       "      <th>MultipleLines</th>\n",
       "      <th>InternetService</th>\n",
       "      <th>StreamingTV</th>\n",
       "      <th>StreamingMovies</th>\n",
       "      <th>Contract</th>\n",
       "      <th>PaperlessBilling</th>\n",
       "      <th>PaymentMethod</th>\n",
       "      <th>Churn</th>\n",
       "    </tr>\n",
       "  </thead>\n",
       "  <tbody>\n",
       "    <tr>\n",
       "      <th>0</th>\n",
       "      <td>Female</td>\n",
       "      <td>0</td>\n",
       "      <td>Yes</td>\n",
       "      <td>No</td>\n",
       "      <td>No</td>\n",
       "      <td>No phone service</td>\n",
       "      <td>DSL</td>\n",
       "      <td>No</td>\n",
       "      <td>No</td>\n",
       "      <td>Month-to-month</td>\n",
       "      <td>Yes</td>\n",
       "      <td>Electronic check</td>\n",
       "      <td>No</td>\n",
       "    </tr>\n",
       "    <tr>\n",
       "      <th>1</th>\n",
       "      <td>Male</td>\n",
       "      <td>0</td>\n",
       "      <td>No</td>\n",
       "      <td>No</td>\n",
       "      <td>Yes</td>\n",
       "      <td>No</td>\n",
       "      <td>DSL</td>\n",
       "      <td>No</td>\n",
       "      <td>No</td>\n",
       "      <td>One year</td>\n",
       "      <td>No</td>\n",
       "      <td>Mailed check</td>\n",
       "      <td>No</td>\n",
       "    </tr>\n",
       "    <tr>\n",
       "      <th>2</th>\n",
       "      <td>Male</td>\n",
       "      <td>0</td>\n",
       "      <td>No</td>\n",
       "      <td>No</td>\n",
       "      <td>Yes</td>\n",
       "      <td>No</td>\n",
       "      <td>DSL</td>\n",
       "      <td>No</td>\n",
       "      <td>No</td>\n",
       "      <td>Month-to-month</td>\n",
       "      <td>Yes</td>\n",
       "      <td>Mailed check</td>\n",
       "      <td>Yes</td>\n",
       "    </tr>\n",
       "    <tr>\n",
       "      <th>3</th>\n",
       "      <td>Male</td>\n",
       "      <td>0</td>\n",
       "      <td>No</td>\n",
       "      <td>No</td>\n",
       "      <td>No</td>\n",
       "      <td>No phone service</td>\n",
       "      <td>DSL</td>\n",
       "      <td>No</td>\n",
       "      <td>No</td>\n",
       "      <td>One year</td>\n",
       "      <td>No</td>\n",
       "      <td>Bank transfer (automatic)</td>\n",
       "      <td>No</td>\n",
       "    </tr>\n",
       "    <tr>\n",
       "      <th>4</th>\n",
       "      <td>Female</td>\n",
       "      <td>0</td>\n",
       "      <td>No</td>\n",
       "      <td>No</td>\n",
       "      <td>Yes</td>\n",
       "      <td>No</td>\n",
       "      <td>Fiber optic</td>\n",
       "      <td>No</td>\n",
       "      <td>No</td>\n",
       "      <td>Month-to-month</td>\n",
       "      <td>Yes</td>\n",
       "      <td>Electronic check</td>\n",
       "      <td>Yes</td>\n",
       "    </tr>\n",
       "    <tr>\n",
       "      <th>...</th>\n",
       "      <td>...</td>\n",
       "      <td>...</td>\n",
       "      <td>...</td>\n",
       "      <td>...</td>\n",
       "      <td>...</td>\n",
       "      <td>...</td>\n",
       "      <td>...</td>\n",
       "      <td>...</td>\n",
       "      <td>...</td>\n",
       "      <td>...</td>\n",
       "      <td>...</td>\n",
       "      <td>...</td>\n",
       "      <td>...</td>\n",
       "    </tr>\n",
       "    <tr>\n",
       "      <th>7038</th>\n",
       "      <td>Male</td>\n",
       "      <td>0</td>\n",
       "      <td>Yes</td>\n",
       "      <td>Yes</td>\n",
       "      <td>Yes</td>\n",
       "      <td>Yes</td>\n",
       "      <td>DSL</td>\n",
       "      <td>Yes</td>\n",
       "      <td>Yes</td>\n",
       "      <td>One year</td>\n",
       "      <td>Yes</td>\n",
       "      <td>Mailed check</td>\n",
       "      <td>No</td>\n",
       "    </tr>\n",
       "    <tr>\n",
       "      <th>7039</th>\n",
       "      <td>Female</td>\n",
       "      <td>0</td>\n",
       "      <td>Yes</td>\n",
       "      <td>Yes</td>\n",
       "      <td>Yes</td>\n",
       "      <td>Yes</td>\n",
       "      <td>Fiber optic</td>\n",
       "      <td>Yes</td>\n",
       "      <td>Yes</td>\n",
       "      <td>One year</td>\n",
       "      <td>Yes</td>\n",
       "      <td>Credit card (automatic)</td>\n",
       "      <td>No</td>\n",
       "    </tr>\n",
       "    <tr>\n",
       "      <th>7040</th>\n",
       "      <td>Female</td>\n",
       "      <td>0</td>\n",
       "      <td>Yes</td>\n",
       "      <td>Yes</td>\n",
       "      <td>No</td>\n",
       "      <td>No phone service</td>\n",
       "      <td>DSL</td>\n",
       "      <td>No</td>\n",
       "      <td>No</td>\n",
       "      <td>Month-to-month</td>\n",
       "      <td>Yes</td>\n",
       "      <td>Electronic check</td>\n",
       "      <td>No</td>\n",
       "    </tr>\n",
       "    <tr>\n",
       "      <th>7041</th>\n",
       "      <td>Male</td>\n",
       "      <td>1</td>\n",
       "      <td>Yes</td>\n",
       "      <td>No</td>\n",
       "      <td>Yes</td>\n",
       "      <td>Yes</td>\n",
       "      <td>Fiber optic</td>\n",
       "      <td>No</td>\n",
       "      <td>No</td>\n",
       "      <td>Month-to-month</td>\n",
       "      <td>Yes</td>\n",
       "      <td>Mailed check</td>\n",
       "      <td>Yes</td>\n",
       "    </tr>\n",
       "    <tr>\n",
       "      <th>7042</th>\n",
       "      <td>Male</td>\n",
       "      <td>0</td>\n",
       "      <td>No</td>\n",
       "      <td>No</td>\n",
       "      <td>Yes</td>\n",
       "      <td>No</td>\n",
       "      <td>Fiber optic</td>\n",
       "      <td>Yes</td>\n",
       "      <td>Yes</td>\n",
       "      <td>Two year</td>\n",
       "      <td>Yes</td>\n",
       "      <td>Bank transfer (automatic)</td>\n",
       "      <td>No</td>\n",
       "    </tr>\n",
       "  </tbody>\n",
       "</table>\n",
       "<p>7043 rows × 13 columns</p>\n",
       "</div>"
      ],
      "text/plain": [
       "      gender  SeniorCitizen Partner Dependents PhoneService     MultipleLines  \\\n",
       "0     Female              0     Yes         No           No  No phone service   \n",
       "1       Male              0      No         No          Yes                No   \n",
       "2       Male              0      No         No          Yes                No   \n",
       "3       Male              0      No         No           No  No phone service   \n",
       "4     Female              0      No         No          Yes                No   \n",
       "...      ...            ...     ...        ...          ...               ...   \n",
       "7038    Male              0     Yes        Yes          Yes               Yes   \n",
       "7039  Female              0     Yes        Yes          Yes               Yes   \n",
       "7040  Female              0     Yes        Yes           No  No phone service   \n",
       "7041    Male              1     Yes         No          Yes               Yes   \n",
       "7042    Male              0      No         No          Yes                No   \n",
       "\n",
       "     InternetService StreamingTV StreamingMovies        Contract  \\\n",
       "0                DSL          No              No  Month-to-month   \n",
       "1                DSL          No              No        One year   \n",
       "2                DSL          No              No  Month-to-month   \n",
       "3                DSL          No              No        One year   \n",
       "4        Fiber optic          No              No  Month-to-month   \n",
       "...              ...         ...             ...             ...   \n",
       "7038             DSL         Yes             Yes        One year   \n",
       "7039     Fiber optic         Yes             Yes        One year   \n",
       "7040             DSL          No              No  Month-to-month   \n",
       "7041     Fiber optic          No              No  Month-to-month   \n",
       "7042     Fiber optic         Yes             Yes        Two year   \n",
       "\n",
       "     PaperlessBilling              PaymentMethod Churn  \n",
       "0                 Yes           Electronic check    No  \n",
       "1                  No               Mailed check    No  \n",
       "2                 Yes               Mailed check   Yes  \n",
       "3                  No  Bank transfer (automatic)    No  \n",
       "4                 Yes           Electronic check   Yes  \n",
       "...               ...                        ...   ...  \n",
       "7038              Yes               Mailed check    No  \n",
       "7039              Yes    Credit card (automatic)    No  \n",
       "7040              Yes           Electronic check    No  \n",
       "7041              Yes               Mailed check   Yes  \n",
       "7042              Yes  Bank transfer (automatic)    No  \n",
       "\n",
       "[7043 rows x 13 columns]"
      ]
     },
     "execution_count": 54,
     "metadata": {},
     "output_type": "execute_result"
    }
   ],
   "source": [
    "df_visualization_nominal"
   ]
  },
  {
   "cell_type": "markdown",
   "id": "4c8b9d44",
   "metadata": {},
   "source": [
    "# Visualization of the Data.\n",
    "\n",
    "\n",
    "For the nominal categorical data we will use countplot as it will give the frequency of the classes of the columns ."
   ]
  },
  {
   "cell_type": "code",
   "execution_count": 55,
   "id": "62211cf5",
   "metadata": {},
   "outputs": [],
   "source": [
    "import seaborn as sns"
   ]
  },
  {
   "cell_type": "code",
   "execution_count": 56,
   "id": "aa10e278",
   "metadata": {},
   "outputs": [
    {
     "name": "stdout",
     "output_type": "stream",
     "text": [
      "Male      3555\n",
      "Female    3488\n",
      "Name: gender, dtype: int64\n"
     ]
    },
    {
     "data": {
      "image/png": "[encoded data removed]",
      "text/plain": [
       "<Figure size 432x288 with 1 Axes>"
      ]
     },
     "metadata": {
      "needs_background": "light"
     },
     "output_type": "display_data"
    }
   ],
   "source": [
    "ax=sns.countplot(x='gender',data=df_visualization_nominal)\n",
    "print(df_visualization_nominal['gender'].value_counts())"
   ]
  },
  {
   "cell_type": "markdown",
   "id": "b00ce74c",
   "metadata": {},
   "source": [
    "From the above observation the total number of male is 3555 and total number of female customer is 3488"
   ]
  },
  {
   "cell_type": "code",
   "execution_count": 57,
   "id": "9e7f1464",
   "metadata": {},
   "outputs": [
    {
     "name": "stdout",
     "output_type": "stream",
     "text": [
      "0    5901\n",
      "1    1142\n",
      "Name: SeniorCitizen, dtype: int64\n"
     ]
    },
    {
     "data": {
      "image/png": "[encoded data removed]",
      "text/plain": [
       "<Figure size 432x288 with 1 Axes>"
      ]
     },
     "metadata": {
      "needs_background": "light"
     },
     "output_type": "display_data"
    }
   ],
   "source": [
    "ax=sns.countplot(x='SeniorCitizen',data=df_visualization_nominal)\n",
    "print(df_visualization_nominal['SeniorCitizen'].value_counts())"
   ]
  },
  {
   "cell_type": "markdown",
   "id": "95537660",
   "metadata": {},
   "source": [
    "From the above observation the total numver of younger customer is 5901 and the total number of senior citizen customer is 1142"
   ]
  },
  {
   "cell_type": "code",
   "execution_count": 58,
   "id": "60746039",
   "metadata": {},
   "outputs": [
    {
     "name": "stdout",
     "output_type": "stream",
     "text": [
      "No     3641\n",
      "Yes    3402\n",
      "Name: Partner, dtype: int64\n"
     ]
    },
    {
     "data": {
      "image/png": "[encoded data removed]",
      "text/plain": [
       "<Figure size 432x288 with 1 Axes>"
      ]
     },
     "metadata": {
      "needs_background": "light"
     },
     "output_type": "display_data"
    }
   ],
   "source": [
    "ax=sns.countplot(x='Partner',data=df_visualization_nominal)\n",
    "print(df_visualization_nominal['Partner'].value_counts())"
   ]
  },
  {
   "cell_type": "markdown",
   "id": "da41b396",
   "metadata": {},
   "source": [
    "From the above obseration the total number of married customer is 3402 and the total number of unmarried customer is 3641"
   ]
  },
  {
   "cell_type": "code",
   "execution_count": 59,
   "id": "b29a73d4",
   "metadata": {},
   "outputs": [
    {
     "name": "stdout",
     "output_type": "stream",
     "text": [
      "No     4933\n",
      "Yes    2110\n",
      "Name: Dependents, dtype: int64\n"
     ]
    },
    {
     "data": {
      "image/png": "[encoded data removed]",
      "text/plain": [
       "<Figure size 432x288 with 1 Axes>"
      ]
     },
     "metadata": {
      "needs_background": "light"
     },
     "output_type": "display_data"
    }
   ],
   "source": [
    "ax=sns.countplot(x='Dependents',data=df_visualization_nominal)\n",
    "print(df_visualization_nominal['Dependents'].value_counts())"
   ]
  },
  {
   "cell_type": "markdown",
   "id": "e3002ec8",
   "metadata": {},
   "source": [
    "From the above observation the total number of dependent customer is 2110 and total number of independent customer is 4933"
   ]
  },
  {
   "cell_type": "code",
   "execution_count": 60,
   "id": "c939d8f9",
   "metadata": {},
   "outputs": [
    {
     "name": "stdout",
     "output_type": "stream",
     "text": [
      "Yes    6361\n",
      "No      682\n",
      "Name: PhoneService, dtype: int64\n"
     ]
    },
    {
     "data": {
      "image/png": "[encoded data removed]",
      "text/plain": [
       "<Figure size 432x288 with 1 Axes>"
      ]
     },
     "metadata": {
      "needs_background": "light"
     },
     "output_type": "display_data"
    }
   ],
   "source": [
    "ax=sns.countplot(x='PhoneService',data=df_visualization_nominal)\n",
    "print(df_visualization_nominal['PhoneService'].value_counts())"
   ]
  },
  {
   "cell_type": "markdown",
   "id": "88ce9544",
   "metadata": {},
   "source": [
    "From the aboce observation the total number customer using phone service is 6361 and total number of customer not using phone services is 682"
   ]
  },
  {
   "cell_type": "code",
   "execution_count": 62,
   "id": "a41aea6d",
   "metadata": {},
   "outputs": [
    {
     "name": "stdout",
     "output_type": "stream",
     "text": [
      "No                  3390\n",
      "Yes                 2971\n",
      "No phone service     682\n",
      "Name: MultipleLines, dtype: int64\n"
     ]
    },
    {
     "data": {
      "image/png": "[encoded data removed]",
      "text/plain": [
       "<Figure size 432x288 with 1 Axes>"
      ]
     },
     "metadata": {
      "needs_background": "light"
     },
     "output_type": "display_data"
    }
   ],
   "source": [
    "ax=sns.countplot(x='MultipleLines',data=df_visualization_nominal)\n",
    "print(df_visualization_nominal['MultipleLines'].value_counts())"
   ]
  },
  {
   "cell_type": "markdown",
   "id": "ad7438d9",
   "metadata": {},
   "source": [
    "From the above observation number of customer not using any internet service is 3390. Fibre optics internet services is 2971 and using DSL internet service is 682"
   ]
  },
  {
   "cell_type": "code",
   "execution_count": 63,
   "id": "bfcc5485",
   "metadata": {},
   "outputs": [
    {
     "name": "stdout",
     "output_type": "stream",
     "text": [
      "Fiber optic    3096\n",
      "DSL            2421\n",
      "No             1526\n",
      "Name: InternetService, dtype: int64\n"
     ]
    },
    {
     "data": {
      "image/png": "[encoded data removed]",
      "text/plain": [
       "<Figure size 432x288 with 1 Axes>"
      ]
     },
     "metadata": {
      "needs_background": "light"
     },
     "output_type": "display_data"
    }
   ],
   "source": [
    "ax=sns.countplot(x='InternetService',data=df_visualization_nominal)\n",
    "print(df_visualization_nominal['InternetService'].value_counts())"
   ]
  },
  {
   "cell_type": "markdown",
   "id": "e9e96d26",
   "metadata": {},
   "source": [
    "From the above observation the total number of customer not using any internet service is 1526.fibre optics internet service is 3096 and using DSL internet service is 2421"
   ]
  },
  {
   "cell_type": "code",
   "execution_count": 64,
   "id": "eab61d1e",
   "metadata": {},
   "outputs": [
    {
     "name": "stdout",
     "output_type": "stream",
     "text": [
      "No                     2810\n",
      "Yes                    2707\n",
      "No internet service    1526\n",
      "Name: StreamingTV, dtype: int64\n"
     ]
    },
    {
     "data": {
      "image/png": "[encoded data removed]",
      "text/plain": [
       "<Figure size 432x288 with 1 Axes>"
      ]
     },
     "metadata": {
      "needs_background": "light"
     },
     "output_type": "display_data"
    }
   ],
   "source": [
    "ax=sns.countplot(x='StreamingTV',data=df_visualization_nominal)\n",
    "print(df_visualization_nominal['StreamingTV'].value_counts())"
   ]
  },
  {
   "cell_type": "markdown",
   "id": "1e70ffc8",
   "metadata": {},
   "source": [
    "From the above observation the total number of customer not using StreamingTV  is 2810.StreamingTV is using by 2707 and not using internet service is 1526"
   ]
  },
  {
   "cell_type": "code",
   "execution_count": 65,
   "id": "37b1e96d",
   "metadata": {},
   "outputs": [
    {
     "name": "stdout",
     "output_type": "stream",
     "text": [
      "No                     2785\n",
      "Yes                    2732\n",
      "No internet service    1526\n",
      "Name: StreamingMovies, dtype: int64\n"
     ]
    },
    {
     "data": {
      "image/png": "[encoded data removed]",
      "text/plain": [
       "<Figure size 432x288 with 1 Axes>"
      ]
     },
     "metadata": {
      "needs_background": "light"
     },
     "output_type": "display_data"
    }
   ],
   "source": [
    "ax=sns.countplot(x='StreamingMovies',data=df_visualization_nominal)\n",
    "print(df_visualization_nominal['StreamingMovies'].value_counts())"
   ]
  },
  {
   "cell_type": "markdown",
   "id": "835174ac",
   "metadata": {},
   "source": [
    "From the above observation the total number of customer not using StreamingMovies is 2785.StreamingTV is using by 2732 and not using internet service is 1526"
   ]
  },
  {
   "cell_type": "code",
   "execution_count": 68,
   "id": "26de5072",
   "metadata": {},
   "outputs": [
    {
     "name": "stdout",
     "output_type": "stream",
     "text": [
      "Month-to-month    3875\n",
      "Two year          1695\n",
      "One year          1473\n",
      "Name: Contract, dtype: int64\n"
     ]
    },
    {
     "data": {
      "image/png": "[encoded data removed]",
      "text/plain": [
       "<Figure size 432x288 with 1 Axes>"
      ]
     },
     "metadata": {
      "needs_background": "light"
     },
     "output_type": "display_data"
    }
   ],
   "source": [
    "ax=sns.countplot(x='Contract',data=df_visualization_nominal)\n",
    "print(df_visualization_nominal['Contract'].value_counts())"
   ]
  },
  {
   "cell_type": "markdown",
   "id": "80396e3a",
   "metadata": {},
   "source": [
    "From the above observation the total number of customer recharge month to month is 3875. For 2 year is using by 1695 and for One year 1473."
   ]
  },
  {
   "cell_type": "code",
   "execution_count": 70,
   "id": "8872b1e8",
   "metadata": {},
   "outputs": [
    {
     "name": "stdout",
     "output_type": "stream",
     "text": [
      "Yes    4171\n",
      "No     2872\n",
      "Name: PaperlessBilling, dtype: int64\n"
     ]
    },
    {
     "data": {
      "image/png": "[encoded data removed]",
      "text/plain": [
       "<Figure size 432x288 with 1 Axes>"
      ]
     },
     "metadata": {
      "needs_background": "light"
     },
     "output_type": "display_data"
    }
   ],
   "source": [
    "ax=sns.countplot(x='PaperlessBilling',data=df_visualization_nominal)\n",
    "print(df_visualization_nominal['PaperlessBilling'].value_counts())"
   ]
  },
  {
   "cell_type": "markdown",
   "id": "52e80237",
   "metadata": {},
   "source": [
    "From the above observation the total number of customer use paperlessBilling is 4171. and Who are not using paperlessBilling is 2872."
   ]
  },
  {
   "cell_type": "code",
   "execution_count": 71,
   "id": "fa7df22b",
   "metadata": {},
   "outputs": [
    {
     "name": "stdout",
     "output_type": "stream",
     "text": [
      "Electronic check             2365\n",
      "Mailed check                 1612\n",
      "Bank transfer (automatic)    1544\n",
      "Credit card (automatic)      1522\n",
      "Name: PaymentMethod, dtype: int64\n"
     ]
    },
    {
     "data": {
      "image/png": "[encoded data removed]",
      "text/plain": [
       "<Figure size 432x288 with 1 Axes>"
      ]
     },
     "metadata": {
      "needs_background": "light"
     },
     "output_type": "display_data"
    }
   ],
   "source": [
    "ax=sns.countplot(x='PaymentMethod',data=df_visualization_nominal)\n",
    "print(df_visualization_nominal['PaymentMethod'].value_counts())"
   ]
  },
  {
   "cell_type": "markdown",
   "id": "10863438",
   "metadata": {},
   "source": [
    "From the above observation 2365 People use Electronic check for payment. and 1612 people ued Mailed check for payment. 1544 people use Bank Transfer for payment . and 1522 people used credit card for paymenyt."
   ]
  },
  {
   "cell_type": "code",
   "execution_count": 74,
   "id": "096048d4",
   "metadata": {},
   "outputs": [
    {
     "name": "stdout",
     "output_type": "stream",
     "text": [
      "No     5174\n",
      "Yes    1869\n",
      "Name: Churn, dtype: int64\n"
     ]
    },
    {
     "data": {
      "image/png": "[encoded data removed]",
      "text/plain": [
       "<Figure size 432x288 with 1 Axes>"
      ]
     },
     "metadata": {
      "needs_background": "light"
     },
     "output_type": "display_data"
    }
   ],
   "source": [
    "ax=sns.countplot(x='Churn',data=df_visualization_nominal)\n",
    "print(df_visualization_nominal['Churn'].value_counts())"
   ]
  },
  {
   "cell_type": "markdown",
   "id": "9f9b8433",
   "metadata": {},
   "source": [
    "from the above observation 5174 people is using churn and 1869 people is not using churn."
   ]
  },
  {
   "cell_type": "markdown",
   "id": "5d197c23",
   "metadata": {},
   "source": [
    "- For the ordianl category data we will use to line plot as it will give the flow of the line of the classes of the columns\n",
    "\n",
    "\n",
    "- Making DataFrame of the Ordinal Data."
   ]
  },
  {
   "cell_type": "code",
   "execution_count": 77,
   "id": "40ba7d5f",
   "metadata": {},
   "outputs": [
    {
     "data": {
      "text/plain": [
       "Index(['customerID', 'gender', 'SeniorCitizen', 'Partner', 'Dependents',\n",
       "       'tenure', 'PhoneService', 'MultipleLines', 'InternetService',\n",
       "       'OnlineSecurity', 'OnlineBackup', 'DeviceProtection', 'TechSupport',\n",
       "       'StreamingTV', 'StreamingMovies', 'Contract', 'PaperlessBilling',\n",
       "       'PaymentMethod', 'MonthlyCharges', 'TotalCharges', 'Churn'],\n",
       "      dtype='object')"
      ]
     },
     "execution_count": 77,
     "metadata": {},
     "output_type": "execute_result"
    }
   ],
   "source": [
    "data.columns"
   ]
  },
  {
   "cell_type": "code",
   "execution_count": 79,
   "id": "364a6f8b",
   "metadata": {},
   "outputs": [],
   "source": [
    "df_visualization_ordianl=data[['customerID','tenure']].copy()"
   ]
  },
  {
   "cell_type": "code",
   "execution_count": 80,
   "id": "9e4ad834",
   "metadata": {},
   "outputs": [
    {
     "data": {
      "text/plain": [
       "<seaborn.axisgrid.FacetGrid at 0x13b9b675730>"
      ]
     },
     "execution_count": 80,
     "metadata": {},
     "output_type": "execute_result"
    },
    {
     "data": {
      "image/png": "[encoded data removed]",
      "text/plain": [
       "<Figure size 360x360 with 1 Axes>"
      ]
     },
     "metadata": {
      "needs_background": "light"
     },
     "output_type": "display_data"
    }
   ],
   "source": [
    "sns.catplot(x='SeniorCitizen',y='tenure',data=data)"
   ]
  },
  {
   "cell_type": "markdown",
   "id": "9efea29f",
   "metadata": {},
   "source": [
    "Checking the distribution of the continuous value of the float type columns."
   ]
  },
  {
   "cell_type": "code",
   "execution_count": 81,
   "id": "68f2be97",
   "metadata": {},
   "outputs": [],
   "source": [
    "data_visualization_continuous=data[['MonthlyCharges','TotalCharges']].copy()"
   ]
  },
  {
   "cell_type": "code",
   "execution_count": 84,
   "id": "f1a88a44",
   "metadata": {},
   "outputs": [
    {
     "data": {
      "text/plain": [
       "<AxesSubplot:xlabel='TotalCharges', ylabel='Density'>"
      ]
     },
     "execution_count": 84,
     "metadata": {},
     "output_type": "execute_result"
    },
    {
     "data": {
      "image/png": "[encoded data removed]",
      "text/plain": [
       "<Figure size 432x288 with 1 Axes>"
      ]
     },
     "metadata": {
      "needs_background": "light"
     },
     "output_type": "display_data"
    }
   ],
   "source": [
    "import seaborn as sns\n",
    "import warnings\n",
    "warnings.filterwarnings('ignore')\n",
    "sns.distplot(data_visualization_continuous['TotalCharges'],kde=True)"
   ]
  },
  {
   "cell_type": "code",
   "execution_count": 85,
   "id": "dbbb2738",
   "metadata": {},
   "outputs": [
    {
     "data": {
      "text/plain": [
       "<AxesSubplot:xlabel='MonthlyCharges', ylabel='Density'>"
      ]
     },
     "execution_count": 85,
     "metadata": {},
     "output_type": "execute_result"
    },
    {
     "data": {
      "image/png": "[encoded data removed]",
      "text/plain": [
       "<Figure size 432x288 with 1 Axes>"
      ]
     },
     "metadata": {
      "needs_background": "light"
     },
     "output_type": "display_data"
    }
   ],
   "source": [
    "sns.distplot(data_visualization_continuous['MonthlyCharges'],kde=True)"
   ]
  },
  {
   "cell_type": "markdown",
   "id": "6dfd2621",
   "metadata": {},
   "source": [
    "# Visualization part is Completed\n",
    "\n",
    "\n",
    "\n",
    "\n",
    "Since the dataset has a lot of string values . We will use the Encoding technique to convert the string data to numerical one.\n",
    "\n",
    "\n",
    "\n",
    "# Encoding of DataFrame"
   ]
  },
  {
   "cell_type": "code",
   "execution_count": 87,
   "id": "ca2dbd06",
   "metadata": {},
   "outputs": [],
   "source": [
    "from sklearn.preprocessing import OrdinalEncoder\n",
    "enc=OrdinalEncoder()"
   ]
  },
  {
   "cell_type": "code",
   "execution_count": 91,
   "id": "b2452ee8",
   "metadata": {},
   "outputs": [],
   "source": [
    "for i in data.columns:\n",
    "    if data[i].dtypes=='object':\n",
    "        data[i]=enc.fit_transform(data[i].values.reshape(-1,1))\n",
    "        "
   ]
  },
  {
   "cell_type": "markdown",
   "id": "4e79edb3",
   "metadata": {},
   "source": [
    "# Describe The Dataset"
   ]
  },
  {
   "cell_type": "code",
   "execution_count": 93,
   "id": "3fb48b23",
   "metadata": {},
   "outputs": [],
   "source": [
    "#Only continuous columns"
   ]
  },
  {
   "cell_type": "code",
   "execution_count": 95,
   "id": "d2a17f72",
   "metadata": {},
   "outputs": [
    {
     "data": {
      "text/html": [
       "<div>\n",
       "<style scoped>\n",
       "    .dataframe tbody tr th:only-of-type {\n",
       "        vertical-align: middle;\n",
       "    }\n",
       "\n",
       "    .dataframe tbody tr th {\n",
       "        vertical-align: top;\n",
       "    }\n",
       "\n",
       "    .dataframe thead th {\n",
       "        text-align: right;\n",
       "    }\n",
       "</style>\n",
       "<table border=\"1\" class=\"dataframe\">\n",
       "  <thead>\n",
       "    <tr style=\"text-align: right;\">\n",
       "      <th></th>\n",
       "      <th>customerID</th>\n",
       "      <th>gender</th>\n",
       "      <th>SeniorCitizen</th>\n",
       "      <th>Partner</th>\n",
       "      <th>Dependents</th>\n",
       "      <th>tenure</th>\n",
       "      <th>PhoneService</th>\n",
       "      <th>MultipleLines</th>\n",
       "      <th>InternetService</th>\n",
       "      <th>OnlineSecurity</th>\n",
       "      <th>...</th>\n",
       "      <th>DeviceProtection</th>\n",
       "      <th>TechSupport</th>\n",
       "      <th>StreamingTV</th>\n",
       "      <th>StreamingMovies</th>\n",
       "      <th>Contract</th>\n",
       "      <th>PaperlessBilling</th>\n",
       "      <th>PaymentMethod</th>\n",
       "      <th>MonthlyCharges</th>\n",
       "      <th>TotalCharges</th>\n",
       "      <th>Churn</th>\n",
       "    </tr>\n",
       "  </thead>\n",
       "  <tbody>\n",
       "    <tr>\n",
       "      <th>count</th>\n",
       "      <td>7043.000000</td>\n",
       "      <td>7043.000000</td>\n",
       "      <td>7043.000000</td>\n",
       "      <td>7043.000000</td>\n",
       "      <td>7043.000000</td>\n",
       "      <td>7043.000000</td>\n",
       "      <td>7043.000000</td>\n",
       "      <td>7043.000000</td>\n",
       "      <td>7043.000000</td>\n",
       "      <td>7043.000000</td>\n",
       "      <td>...</td>\n",
       "      <td>7043.000000</td>\n",
       "      <td>7043.000000</td>\n",
       "      <td>7043.000000</td>\n",
       "      <td>7043.000000</td>\n",
       "      <td>7043.000000</td>\n",
       "      <td>7043.000000</td>\n",
       "      <td>7043.000000</td>\n",
       "      <td>7043.000000</td>\n",
       "      <td>7043.000000</td>\n",
       "      <td>7043.000000</td>\n",
       "    </tr>\n",
       "    <tr>\n",
       "      <th>mean</th>\n",
       "      <td>3521.000000</td>\n",
       "      <td>0.504756</td>\n",
       "      <td>0.162147</td>\n",
       "      <td>0.483033</td>\n",
       "      <td>0.299588</td>\n",
       "      <td>32.371149</td>\n",
       "      <td>0.903166</td>\n",
       "      <td>0.940508</td>\n",
       "      <td>0.872923</td>\n",
       "      <td>0.790004</td>\n",
       "      <td>...</td>\n",
       "      <td>0.904444</td>\n",
       "      <td>0.797104</td>\n",
       "      <td>0.985376</td>\n",
       "      <td>0.992475</td>\n",
       "      <td>0.690473</td>\n",
       "      <td>0.592219</td>\n",
       "      <td>1.574329</td>\n",
       "      <td>64.761692</td>\n",
       "      <td>2283.300441</td>\n",
       "      <td>0.265370</td>\n",
       "    </tr>\n",
       "    <tr>\n",
       "      <th>std</th>\n",
       "      <td>2033.283305</td>\n",
       "      <td>0.500013</td>\n",
       "      <td>0.368612</td>\n",
       "      <td>0.499748</td>\n",
       "      <td>0.458110</td>\n",
       "      <td>24.559481</td>\n",
       "      <td>0.295752</td>\n",
       "      <td>0.948554</td>\n",
       "      <td>0.737796</td>\n",
       "      <td>0.859848</td>\n",
       "      <td>...</td>\n",
       "      <td>0.879949</td>\n",
       "      <td>0.861551</td>\n",
       "      <td>0.885002</td>\n",
       "      <td>0.885091</td>\n",
       "      <td>0.833755</td>\n",
       "      <td>0.491457</td>\n",
       "      <td>1.068104</td>\n",
       "      <td>30.090047</td>\n",
       "      <td>2265.000258</td>\n",
       "      <td>0.441561</td>\n",
       "    </tr>\n",
       "    <tr>\n",
       "      <th>min</th>\n",
       "      <td>0.000000</td>\n",
       "      <td>0.000000</td>\n",
       "      <td>0.000000</td>\n",
       "      <td>0.000000</td>\n",
       "      <td>0.000000</td>\n",
       "      <td>0.000000</td>\n",
       "      <td>0.000000</td>\n",
       "      <td>0.000000</td>\n",
       "      <td>0.000000</td>\n",
       "      <td>0.000000</td>\n",
       "      <td>...</td>\n",
       "      <td>0.000000</td>\n",
       "      <td>0.000000</td>\n",
       "      <td>0.000000</td>\n",
       "      <td>0.000000</td>\n",
       "      <td>0.000000</td>\n",
       "      <td>0.000000</td>\n",
       "      <td>0.000000</td>\n",
       "      <td>18.250000</td>\n",
       "      <td>18.800000</td>\n",
       "      <td>0.000000</td>\n",
       "    </tr>\n",
       "    <tr>\n",
       "      <th>25%</th>\n",
       "      <td>1760.500000</td>\n",
       "      <td>0.000000</td>\n",
       "      <td>0.000000</td>\n",
       "      <td>0.000000</td>\n",
       "      <td>0.000000</td>\n",
       "      <td>9.000000</td>\n",
       "      <td>1.000000</td>\n",
       "      <td>0.000000</td>\n",
       "      <td>0.000000</td>\n",
       "      <td>0.000000</td>\n",
       "      <td>...</td>\n",
       "      <td>0.000000</td>\n",
       "      <td>0.000000</td>\n",
       "      <td>0.000000</td>\n",
       "      <td>0.000000</td>\n",
       "      <td>0.000000</td>\n",
       "      <td>0.000000</td>\n",
       "      <td>1.000000</td>\n",
       "      <td>35.500000</td>\n",
       "      <td>402.225000</td>\n",
       "      <td>0.000000</td>\n",
       "    </tr>\n",
       "    <tr>\n",
       "      <th>50%</th>\n",
       "      <td>3521.000000</td>\n",
       "      <td>1.000000</td>\n",
       "      <td>0.000000</td>\n",
       "      <td>0.000000</td>\n",
       "      <td>0.000000</td>\n",
       "      <td>29.000000</td>\n",
       "      <td>1.000000</td>\n",
       "      <td>1.000000</td>\n",
       "      <td>1.000000</td>\n",
       "      <td>1.000000</td>\n",
       "      <td>...</td>\n",
       "      <td>1.000000</td>\n",
       "      <td>1.000000</td>\n",
       "      <td>1.000000</td>\n",
       "      <td>1.000000</td>\n",
       "      <td>0.000000</td>\n",
       "      <td>1.000000</td>\n",
       "      <td>2.000000</td>\n",
       "      <td>70.350000</td>\n",
       "      <td>1400.550000</td>\n",
       "      <td>0.000000</td>\n",
       "    </tr>\n",
       "    <tr>\n",
       "      <th>75%</th>\n",
       "      <td>5281.500000</td>\n",
       "      <td>1.000000</td>\n",
       "      <td>0.000000</td>\n",
       "      <td>1.000000</td>\n",
       "      <td>1.000000</td>\n",
       "      <td>55.000000</td>\n",
       "      <td>1.000000</td>\n",
       "      <td>2.000000</td>\n",
       "      <td>1.000000</td>\n",
       "      <td>2.000000</td>\n",
       "      <td>...</td>\n",
       "      <td>2.000000</td>\n",
       "      <td>2.000000</td>\n",
       "      <td>2.000000</td>\n",
       "      <td>2.000000</td>\n",
       "      <td>1.000000</td>\n",
       "      <td>1.000000</td>\n",
       "      <td>2.000000</td>\n",
       "      <td>89.850000</td>\n",
       "      <td>3786.600000</td>\n",
       "      <td>1.000000</td>\n",
       "    </tr>\n",
       "    <tr>\n",
       "      <th>max</th>\n",
       "      <td>7042.000000</td>\n",
       "      <td>1.000000</td>\n",
       "      <td>1.000000</td>\n",
       "      <td>1.000000</td>\n",
       "      <td>1.000000</td>\n",
       "      <td>72.000000</td>\n",
       "      <td>1.000000</td>\n",
       "      <td>2.000000</td>\n",
       "      <td>2.000000</td>\n",
       "      <td>2.000000</td>\n",
       "      <td>...</td>\n",
       "      <td>2.000000</td>\n",
       "      <td>2.000000</td>\n",
       "      <td>2.000000</td>\n",
       "      <td>2.000000</td>\n",
       "      <td>2.000000</td>\n",
       "      <td>1.000000</td>\n",
       "      <td>3.000000</td>\n",
       "      <td>118.750000</td>\n",
       "      <td>8684.800000</td>\n",
       "      <td>1.000000</td>\n",
       "    </tr>\n",
       "  </tbody>\n",
       "</table>\n",
       "<p>8 rows × 21 columns</p>\n",
       "</div>"
      ],
      "text/plain": [
       "        customerID       gender  SeniorCitizen      Partner   Dependents  \\\n",
       "count  7043.000000  7043.000000    7043.000000  7043.000000  7043.000000   \n",
       "mean   3521.000000     0.504756       0.162147     0.483033     0.299588   \n",
       "std    2033.283305     0.500013       0.368612     0.499748     0.458110   \n",
       "min       0.000000     0.000000       0.000000     0.000000     0.000000   \n",
       "25%    1760.500000     0.000000       0.000000     0.000000     0.000000   \n",
       "50%    3521.000000     1.000000       0.000000     0.000000     0.000000   \n",
       "75%    5281.500000     1.000000       0.000000     1.000000     1.000000   \n",
       "max    7042.000000     1.000000       1.000000     1.000000     1.000000   \n",
       "\n",
       "            tenure  PhoneService  MultipleLines  InternetService  \\\n",
       "count  7043.000000   7043.000000    7043.000000      7043.000000   \n",
       "mean     32.371149      0.903166       0.940508         0.872923   \n",
       "std      24.559481      0.295752       0.948554         0.737796   \n",
       "min       0.000000      0.000000       0.000000         0.000000   \n",
       "25%       9.000000      1.000000       0.000000         0.000000   \n",
       "50%      29.000000      1.000000       1.000000         1.000000   \n",
       "75%      55.000000      1.000000       2.000000         1.000000   \n",
       "max      72.000000      1.000000       2.000000         2.000000   \n",
       "\n",
       "       OnlineSecurity  ...  DeviceProtection  TechSupport  StreamingTV  \\\n",
       "count     7043.000000  ...       7043.000000  7043.000000  7043.000000   \n",
       "mean         0.790004  ...          0.904444     0.797104     0.985376   \n",
       "std          0.859848  ...          0.879949     0.861551     0.885002   \n",
       "min          0.000000  ...          0.000000     0.000000     0.000000   \n",
       "25%          0.000000  ...          0.000000     0.000000     0.000000   \n",
       "50%          1.000000  ...          1.000000     1.000000     1.000000   \n",
       "75%          2.000000  ...          2.000000     2.000000     2.000000   \n",
       "max          2.000000  ...          2.000000     2.000000     2.000000   \n",
       "\n",
       "       StreamingMovies     Contract  PaperlessBilling  PaymentMethod  \\\n",
       "count      7043.000000  7043.000000       7043.000000    7043.000000   \n",
       "mean          0.992475     0.690473          0.592219       1.574329   \n",
       "std           0.885091     0.833755          0.491457       1.068104   \n",
       "min           0.000000     0.000000          0.000000       0.000000   \n",
       "25%           0.000000     0.000000          0.000000       1.000000   \n",
       "50%           1.000000     0.000000          1.000000       2.000000   \n",
       "75%           2.000000     1.000000          1.000000       2.000000   \n",
       "max           2.000000     2.000000          1.000000       3.000000   \n",
       "\n",
       "       MonthlyCharges  TotalCharges        Churn  \n",
       "count     7043.000000   7043.000000  7043.000000  \n",
       "mean        64.761692   2283.300441     0.265370  \n",
       "std         30.090047   2265.000258     0.441561  \n",
       "min         18.250000     18.800000     0.000000  \n",
       "25%         35.500000    402.225000     0.000000  \n",
       "50%         70.350000   1400.550000     0.000000  \n",
       "75%         89.850000   3786.600000     1.000000  \n",
       "max        118.750000   8684.800000     1.000000  \n",
       "\n",
       "[8 rows x 21 columns]"
      ]
     },
     "execution_count": 95,
     "metadata": {},
     "output_type": "execute_result"
    }
   ],
   "source": [
    "data.describe()"
   ]
  },
  {
   "cell_type": "code",
   "execution_count": 105,
   "id": "fc81026d",
   "metadata": {},
   "outputs": [
    {
     "data": {
      "text/plain": [
       "<AxesSubplot:>"
      ]
     },
     "execution_count": 105,
     "metadata": {},
     "output_type": "execute_result"
    },
    {
     "data": {
      "image/png": "[encoded data removed]",
      "text/plain": [
       "<Figure size 1584x504 with 2 Axes>"
      ]
     },
     "metadata": {
      "needs_background": "light"
     },
     "output_type": "display_data"
    }
   ],
   "source": [
    "import matplotlib.pyplot as plt\n",
    "%matplotlib inline\n",
    "plt.figure(figsize=(22,7))\n",
    "sns.heatmap(data.describe(),annot=True,linewidths=0.1,linecolor='black',fmt=\"0.2f\")"
   ]
  },
  {
   "cell_type": "markdown",
   "id": "417e7e8c",
   "metadata": {},
   "source": [
    "# Correlation of the columns with target columns."
   ]
  },
  {
   "cell_type": "code",
   "execution_count": 98,
   "id": "9812c280",
   "metadata": {},
   "outputs": [
    {
     "data": {
      "text/plain": [
       "PaymentMethod      -0.330151\n",
       "Churn              -0.199428\n",
       "InternetService    -0.175429\n",
       "customerID         -0.000270\n",
       "gender              0.000048\n",
       "Dependents          0.064535\n",
       "SeniorCitizen       0.102395\n",
       "PhoneService        0.112851\n",
       "PaperlessBilling    0.157676\n",
       "OnlineSecurity      0.254308\n",
       "TechSupport         0.276713\n",
       "Partner             0.318812\n",
       "OnlineBackup        0.375362\n",
       "DeviceProtection    0.388864\n",
       "StreamingTV         0.392291\n",
       "StreamingMovies     0.397909\n",
       "Contract            0.449511\n",
       "MultipleLines       0.452883\n",
       "MonthlyCharges      0.650468\n",
       "tenure              0.824757\n",
       "TotalCharges        1.000000\n",
       "Name: TotalCharges, dtype: float64"
      ]
     },
     "execution_count": 98,
     "metadata": {},
     "output_type": "execute_result"
    }
   ],
   "source": [
    "data.corr()['TotalCharges'].sort_values()"
   ]
  },
  {
   "cell_type": "markdown",
   "id": "8b792418",
   "metadata": {},
   "source": [
    "Checking the column which are positively and negative correlated with the target columns\n"
   ]
  },
  {
   "cell_type": "code",
   "execution_count": 108,
   "id": "c22d13a2",
   "metadata": {},
   "outputs": [
    {
     "ename": "AttributeError",
     "evalue": "'Series' object has no attribute 'data'",
     "output_type": "error",
     "traceback": [
      "\u001b[1;31m---------------------------------------------------------------------------\u001b[0m",
      "\u001b[1;31mAttributeError\u001b[0m                            Traceback (most recent call last)",
      "Input \u001b[1;32mIn [108]\u001b[0m, in \u001b[0;36m<cell line: 2>\u001b[1;34m()\u001b[0m\n\u001b[0;32m      1\u001b[0m plt\u001b[38;5;241m.\u001b[39mfigure(figsize\u001b[38;5;241m=\u001b[39m(\u001b[38;5;241m22\u001b[39m,\u001b[38;5;241m7\u001b[39m))\n\u001b[1;32m----> 2\u001b[0m \u001b[43mdata\u001b[49m\u001b[38;5;241;43m.\u001b[39;49m\u001b[43mcorr\u001b[49m\u001b[43m(\u001b[49m\u001b[43m)\u001b[49m\u001b[43m[\u001b[49m\u001b[38;5;124;43m'\u001b[39;49m\u001b[38;5;124;43mTotalCharges\u001b[39;49m\u001b[38;5;124;43m'\u001b[39;49m\u001b[43m]\u001b[49m\u001b[38;5;241;43m.\u001b[39;49m\u001b[43msort_values\u001b[49m\u001b[43m(\u001b[49m\u001b[43mascending\u001b[49m\u001b[38;5;241;43m=\u001b[39;49m\u001b[38;5;28;43;01mFalse\u001b[39;49;00m\u001b[43m)\u001b[49m\u001b[38;5;241;43m.\u001b[39;49m\u001b[43mdata\u001b[49m\u001b[38;5;241m.\u001b[39mdrop([\u001b[38;5;124m'\u001b[39m\u001b[38;5;124mTotalCharges\u001b[39m\u001b[38;5;124m'\u001b[39m]\u001b[38;5;241m.\u001b[39mplot(kind\u001b[38;5;241m=\u001b[39m\u001b[38;5;124m'\u001b[39m\u001b[38;5;124mbar\u001b[39m\u001b[38;5;124m'\u001b[39m,color\u001b[38;5;241m=\u001b[39m\u001b[38;5;124m'\u001b[39m\u001b[38;5;124mc\u001b[39m\u001b[38;5;124m'\u001b[39m))\n\u001b[0;32m      3\u001b[0m plt\u001b[38;5;241m.\u001b[39mxlabel(\u001b[38;5;124m'\u001b[39m\u001b[38;5;124mfeature\u001b[39m\u001b[38;5;124m'\u001b[39m,fontsize\u001b[38;5;241m=\u001b[39m\u001b[38;5;241m14\u001b[39m)\n\u001b[0;32m      4\u001b[0m plt\u001b[38;5;241m.\u001b[39mylabel(\u001b[38;5;124m'\u001b[39m\u001b[38;5;124mcolumn with target names\u001b[39m\u001b[38;5;124m'\u001b[39m,fontsize\u001b[38;5;241m=\u001b[39m\u001b[38;5;241m14\u001b[39m)\n",
      "File \u001b[1;32m~\\anaconda3\\lib\\site-packages\\pandas\\core\\generic.py:5575\u001b[0m, in \u001b[0;36mNDFrame.__getattr__\u001b[1;34m(self, name)\u001b[0m\n\u001b[0;32m   5568\u001b[0m \u001b[38;5;28;01mif\u001b[39;00m (\n\u001b[0;32m   5569\u001b[0m     name \u001b[38;5;129;01mnot\u001b[39;00m \u001b[38;5;129;01min\u001b[39;00m \u001b[38;5;28mself\u001b[39m\u001b[38;5;241m.\u001b[39m_internal_names_set\n\u001b[0;32m   5570\u001b[0m     \u001b[38;5;129;01mand\u001b[39;00m name \u001b[38;5;129;01mnot\u001b[39;00m \u001b[38;5;129;01min\u001b[39;00m \u001b[38;5;28mself\u001b[39m\u001b[38;5;241m.\u001b[39m_metadata\n\u001b[0;32m   5571\u001b[0m     \u001b[38;5;129;01mand\u001b[39;00m name \u001b[38;5;129;01mnot\u001b[39;00m \u001b[38;5;129;01min\u001b[39;00m \u001b[38;5;28mself\u001b[39m\u001b[38;5;241m.\u001b[39m_accessors\n\u001b[0;32m   5572\u001b[0m     \u001b[38;5;129;01mand\u001b[39;00m \u001b[38;5;28mself\u001b[39m\u001b[38;5;241m.\u001b[39m_info_axis\u001b[38;5;241m.\u001b[39m_can_hold_identifiers_and_holds_name(name)\n\u001b[0;32m   5573\u001b[0m ):\n\u001b[0;32m   5574\u001b[0m     \u001b[38;5;28;01mreturn\u001b[39;00m \u001b[38;5;28mself\u001b[39m[name]\n\u001b[1;32m-> 5575\u001b[0m \u001b[38;5;28;01mreturn\u001b[39;00m \u001b[38;5;28;43mobject\u001b[39;49m\u001b[38;5;241;43m.\u001b[39;49m\u001b[38;5;21;43m__getattribute__\u001b[39;49m\u001b[43m(\u001b[49m\u001b[38;5;28;43mself\u001b[39;49m\u001b[43m,\u001b[49m\u001b[43m \u001b[49m\u001b[43mname\u001b[49m\u001b[43m)\u001b[49m\n",
      "\u001b[1;31mAttributeError\u001b[0m: 'Series' object has no attribute 'data'"
     ]
    },
    {
     "data": {
      "text/plain": [
       "<Figure size 1584x504 with 0 Axes>"
      ]
     },
     "metadata": {},
     "output_type": "display_data"
    }
   ],
   "source": [
    "plt.figure(figsize=(22,7))\n",
    "data.corr()['TotalCharges'].sort_values(ascending=False).drop(['TotalCharges'].plot(kind='bar',color='c'))\n",
    "plt.xlabel('feature',fontsize=14)\n",
    "plt.ylabel('column with target names',fontsize=14)\n",
    "plt.title('correlation',fontsize=18)\n",
    "plt.show()"
   ]
  },
  {
   "cell_type": "code",
   "execution_count": 111,
   "id": "00963254",
   "metadata": {},
   "outputs": [
    {
     "data": {
      "text/plain": [
       "<AxesSubplot:>"
      ]
     },
     "execution_count": 111,
     "metadata": {},
     "output_type": "execute_result"
    },
    {
     "data": {
      "image/png": "[encoded data removed]",
      "text/plain": [
       "<Figure size 432x288 with 1 Axes>"
      ]
     },
     "metadata": {
      "needs_background": "light"
     },
     "output_type": "display_data"
    }
   ],
   "source": [
    "data.corr()['TotalCharges'].sort_values(ascending=False).drop(['TotalCharges']).plot(kind='bar',color='c')"
   ]
  },
  {
   "cell_type": "code",
   "execution_count": 110,
   "id": "fdf60380",
   "metadata": {},
   "outputs": [
    {
     "data": {
      "text/plain": [
       "0         29.85\n",
       "1       1889.50\n",
       "2        108.15\n",
       "3       1840.75\n",
       "4        151.65\n",
       "         ...   \n",
       "7038    1990.50\n",
       "7039    7362.90\n",
       "7040     346.45\n",
       "7041     306.60\n",
       "7042    6844.50\n",
       "Name: TotalCharges, Length: 7043, dtype: float64"
      ]
     },
     "execution_count": 110,
     "metadata": {},
     "output_type": "execute_result"
    }
   ],
   "source": [
    "data['TotalCharges']"
   ]
  },
  {
   "cell_type": "code",
   "execution_count": 112,
   "id": "87671ff9",
   "metadata": {},
   "outputs": [
    {
     "data": {
      "text/plain": [
       "customerID          0.000000\n",
       "gender             -0.019031\n",
       "SeniorCitizen       1.833633\n",
       "Partner             0.067922\n",
       "Dependents          0.875199\n",
       "tenure              0.239540\n",
       "PhoneService       -2.727153\n",
       "MultipleLines       0.118719\n",
       "InternetService     0.205423\n",
       "OnlineSecurity      0.416985\n",
       "OnlineBackup        0.182930\n",
       "DeviceProtection    0.186847\n",
       "TechSupport         0.402365\n",
       "StreamingTV         0.028486\n",
       "StreamingMovies     0.014657\n",
       "Contract            0.630959\n",
       "PaperlessBilling   -0.375396\n",
       "PaymentMethod      -0.170129\n",
       "MonthlyCharges     -0.220524\n",
       "TotalCharges        0.962394\n",
       "Churn               1.063031\n",
       "dtype: float64"
      ]
     },
     "execution_count": 112,
     "metadata": {},
     "output_type": "execute_result"
    }
   ],
   "source": [
    "data.skew()"
   ]
  },
  {
   "cell_type": "markdown",
   "id": "73b16ca9",
   "metadata": {},
   "source": [
    "Keeping +/-0.5 as the range for skewness here are the columns which does not lie with in this range.\n",
    "\n",
    "\n",
    "- Senior Citizen-Categorical\n",
    "- Dependents - Cateorical\n",
    "- Phone Service - Categorical\n",
    "- Contract - Categorical\n",
    "- Total Charges - Target Variables\n",
    "- Churn - Categorical\n",
    "\n",
    "- Since , no columns has skewness , we will not treat that"
   ]
  },
  {
   "cell_type": "markdown",
   "id": "dcf29e5f",
   "metadata": {},
   "source": [
    "# Checking the Outliers on the int and float type of columns"
   ]
  },
  {
   "cell_type": "code",
   "execution_count": 114,
   "id": "f4d3fa1e",
   "metadata": {},
   "outputs": [
    {
     "data": {
      "text/plain": [
       "<AxesSubplot:>"
      ]
     },
     "execution_count": 114,
     "metadata": {},
     "output_type": "execute_result"
    },
    {
     "data": {
      "image/png": "[encoded data removed]",
      "text/plain": [
       "<Figure size 432x288 with 1 Axes>"
      ]
     },
     "metadata": {
      "needs_background": "light"
     },
     "output_type": "display_data"
    }
   ],
   "source": [
    "data['SeniorCitizen'].plot.box()"
   ]
  },
  {
   "cell_type": "code",
   "execution_count": 116,
   "id": "4be9af97",
   "metadata": {},
   "outputs": [
    {
     "data": {
      "text/plain": [
       "<AxesSubplot:>"
      ]
     },
     "execution_count": 116,
     "metadata": {},
     "output_type": "execute_result"
    },
    {
     "data": {
      "image/png": "[encoded data removed]",
      "text/plain": [
       "<Figure size 432x288 with 1 Axes>"
      ]
     },
     "metadata": {
      "needs_background": "light"
     },
     "output_type": "display_data"
    }
   ],
   "source": [
    "data['TotalCharges'].plot.box()"
   ]
  },
  {
   "cell_type": "code",
   "execution_count": 118,
   "id": "7a984076",
   "metadata": {},
   "outputs": [
    {
     "data": {
      "text/plain": [
       "<AxesSubplot:>"
      ]
     },
     "execution_count": 118,
     "metadata": {},
     "output_type": "execute_result"
    },
    {
     "data": {
      "image/png": "[encoded data removed]",
      "text/plain": [
       "<Figure size 432x288 with 1 Axes>"
      ]
     },
     "metadata": {
      "needs_background": "light"
     },
     "output_type": "display_data"
    }
   ],
   "source": [
    "data['MonthlyCharges'].plot.box()"
   ]
  },
  {
   "cell_type": "code",
   "execution_count": 119,
   "id": "39b51c9a",
   "metadata": {},
   "outputs": [
    {
     "data": {
      "text/plain": [
       "<AxesSubplot:>"
      ]
     },
     "execution_count": 119,
     "metadata": {},
     "output_type": "execute_result"
    },
    {
     "data": {
      "image/png": "[encoded data removed]",
      "text/plain": [
       "<Figure size 432x288 with 1 Axes>"
      ]
     },
     "metadata": {
      "needs_background": "light"
     },
     "output_type": "display_data"
    }
   ],
   "source": [
    "data['tenure'].plot.box()"
   ]
  },
  {
   "cell_type": "code",
   "execution_count": 120,
   "id": "5c3dae59",
   "metadata": {},
   "outputs": [
    {
     "data": {
      "text/plain": [
       "array([0, 1], dtype=int64)"
      ]
     },
     "execution_count": 120,
     "metadata": {},
     "output_type": "execute_result"
    }
   ],
   "source": [
    "data['SeniorCitizen'].unique()#Confirming here"
   ]
  },
  {
   "cell_type": "markdown",
   "id": "fdefb628",
   "metadata": {},
   "source": [
    "Since the column SeniorCitizen is nominal type , we cannot consider its data points as outlier."
   ]
  },
  {
   "cell_type": "markdown",
   "id": "3083cfeb",
   "metadata": {},
   "source": [
    "#  Considering the Outlier remova"
   ]
  },
  {
   "cell_type": "code",
   "execution_count": 121,
   "id": "689f9fe9",
   "metadata": {},
   "outputs": [
    {
     "data": {
      "text/plain": [
       "(7043, 21)"
      ]
     },
     "execution_count": 121,
     "metadata": {},
     "output_type": "execute_result"
    }
   ],
   "source": [
    "data.shape"
   ]
  },
  {
   "cell_type": "code",
   "execution_count": 125,
   "id": "cb4bc852",
   "metadata": {},
   "outputs": [
    {
     "data": {
      "text/plain": [
       "(array([   0,    3,    7,   20,   27,   62,   81,   89,  103,  105,  107,\n",
       "         114,  116,  129,  131,  133,  168,  180,  185,  187,  206,  211,\n",
       "         215,  216,  217,  225,  236,  252,  255,  259,  260,  263,  272,\n",
       "         278,  303,  321,  324,  328,  348,  354,  358,  372,  376,  382,\n",
       "         387,  398,  424,  431,  435,  452,  465,  481,  488,  495,  498,\n",
       "         544,  569,  596,  610,  616,  620,  634,  660,  667,  669,  674,\n",
       "         677,  688,  716,  718,  735,  765,  776,  784,  790,  794,  813,\n",
       "         829,  843,  847,  859,  866,  873,  875,  877,  884,  893,  917,\n",
       "         934,  941,  943,  960,  973, 1011, 1018, 1037, 1050, 1051, 1053,\n",
       "        1072, 1110, 1119, 1122, 1144, 1146, 1150, 1161, 1169, 1182, 1204,\n",
       "        1221, 1225, 1242, 1255, 1257, 1271, 1278, 1298, 1311, 1326, 1331,\n",
       "        1333, 1334, 1340, 1349, 1352, 1365, 1379, 1402, 1407, 1416, 1452,\n",
       "        1479, 1480, 1481, 1500, 1506, 1513, 1519, 1560, 1562, 1581, 1584,\n",
       "        1614, 1620, 1634, 1637, 1652, 1689, 1692, 1694, 1703, 1722, 1734,\n",
       "        1789, 1802, 1803, 1819, 1827, 1832, 1845, 1851, 1854, 1862, 1881,\n",
       "        1889, 1892, 1894, 1906, 1910, 1944, 1959, 1969, 1985, 1989, 1998,\n",
       "        2002, 2031, 2046, 2050, 2087, 2089, 2090, 2117, 2124, 2127, 2131,\n",
       "        2188, 2215, 2225, 2226, 2237, 2239, 2290, 2295, 2310, 2340, 2344,\n",
       "        2348, 2362, 2382, 2383, 2385, 2398, 2399, 2409, 2412, 2413, 2417,\n",
       "        2420, 2421, 2426, 2427, 2431, 2433, 2465, 2468, 2492, 2533, 2538,\n",
       "        2541, 2547, 2562, 2608, 2610, 2626, 2637, 2644, 2661, 2662, 2681,\n",
       "        2696, 2700, 2709, 2712, 2718, 2725, 2728, 2748, 2751, 2752, 2754,\n",
       "        2761, 2773, 2781, 2804, 2809, 2814, 2841, 2842, 2889, 2898, 2899,\n",
       "        2903, 2913, 2915, 2916, 2918, 2919, 2929, 2940, 2944, 2962, 2966,\n",
       "        2972, 2990, 2992, 2994, 2995, 3020, 3028, 3036, 3039, 3042, 3043,\n",
       "        3060, 3062, 3070, 3073, 3080, 3092, 3096, 3126, 3127, 3133, 3139,\n",
       "        3150, 3160, 3174, 3177, 3183, 3185, 3190, 3191, 3194, 3213, 3221,\n",
       "        3223, 3233, 3235, 3243, 3258, 3290, 3292, 3311, 3316, 3318, 3342,\n",
       "        3354, 3363, 3370, 3414, 3422, 3444, 3454, 3492, 3502, 3505, 3541,\n",
       "        3542, 3557, 3575, 3583, 3586, 3594, 3613, 3614, 3617, 3620, 3621,\n",
       "        3652, 3653, 3660, 3677, 3680, 3685, 3690, 3722, 3733, 3738, 3753,\n",
       "        3756, 3773, 3819, 3860, 3870, 3873, 3877, 3902, 3905, 3926, 3934,\n",
       "        3940, 3945, 3946, 3955, 3961, 3973, 3976, 3983, 3989, 4008, 4020,\n",
       "        4024, 4027, 4029, 4040, 4041, 4043, 4048, 4052, 4054, 4055, 4056,\n",
       "        4071, 4075, 4085, 4099, 4109, 4128, 4130, 4132, 4141, 4149, 4151,\n",
       "        4162, 4168, 4174, 4178, 4180, 4183, 4200, 4207, 4208, 4233, 4239,\n",
       "        4251, 4281, 4290, 4309, 4310, 4311, 4338, 4369, 4396, 4400, 4402,\n",
       "        4409, 4411, 4424, 4432, 4465, 4474, 4481, 4521, 4537, 4557, 4565,\n",
       "        4603, 4612, 4641, 4653, 4657, 4665, 4670, 4702, 4710, 4726, 4728,\n",
       "        4729, 4740, 4750, 4765, 4773, 4821, 4828, 4831, 4840, 4845, 4849,\n",
       "        4854, 4857, 4860, 4882, 4883, 4897, 4898, 4915, 4919, 4924, 4933,\n",
       "        4949, 4965, 4968, 4970, 4974, 4976, 4981, 4983, 4989, 4992, 4993,\n",
       "        5002, 5013, 5014, 5017, 5034, 5060, 5062, 5064, 5066, 5073, 5085,\n",
       "        5091, 5117, 5130, 5144, 5147, 5163, 5176, 5180, 5186, 5204, 5207,\n",
       "        5210, 5212, 5216, 5249, 5263, 5264, 5284, 5290, 5292, 5296, 5303,\n",
       "        5314, 5329, 5331, 5338, 5343, 5348, 5356, 5359, 5382, 5387, 5391,\n",
       "        5392, 5411, 5456, 5489, 5497, 5501, 5505, 5531, 5536, 5546, 5559,\n",
       "        5565, 5601, 5607, 5631, 5636, 5648, 5665, 5666, 5674, 5682, 5683,\n",
       "        5690, 5717, 5740, 5761, 5788, 5790, 5796, 5799, 5829, 5833, 5837,\n",
       "        5841, 5880, 5884, 5889, 5891, 5900, 5911, 5939, 5941, 5942, 5949,\n",
       "        5950, 5954, 5961, 5967, 5976, 5983, 6001, 6006, 6007, 6020, 6030,\n",
       "        6031, 6039, 6043, 6059, 6064, 6067, 6074, 6080, 6087, 6093, 6108,\n",
       "        6129, 6132, 6133, 6145, 6149, 6162, 6174, 6183, 6204, 6209, 6212,\n",
       "        6218, 6219, 6220, 6235, 6248, 6252, 6253, 6256, 6260, 6263, 6269,\n",
       "        6285, 6296, 6310, 6319, 6326, 6331, 6367, 6377, 6383, 6392, 6406,\n",
       "        6415, 6416, 6424, 6425, 6435, 6455, 6457, 6459, 6493, 6494, 6500,\n",
       "        6503, 6509, 6514, 6515, 6522, 6523, 6530, 6536, 6547, 6553, 6570,\n",
       "        6573, 6593, 6600, 6607, 6624, 6640, 6653, 6661, 6662, 6665, 6677,\n",
       "        6679, 6683, 6684, 6691, 6693, 6703, 6727, 6747, 6750, 6752, 6757,\n",
       "        6777, 6779, 6783, 6791, 6810, 6811, 6813, 6834, 6864, 6881, 6884,\n",
       "        6891, 6895, 6904, 6905, 6937, 6940, 6941, 6943, 6946, 6949, 6964,\n",
       "        6966, 6979, 6980, 6984, 6985, 6999, 7003, 7007, 7029, 7036, 7040],\n",
       "       dtype=int64),\n",
       " array([6, 6, 6, 6, 6, 6, 6, 6, 6, 6, 6, 6, 6, 6, 6, 6, 6, 6, 6, 6, 6, 6,\n",
       "        6, 6, 6, 6, 6, 6, 6, 6, 6, 6, 6, 6, 6, 6, 6, 6, 6, 6, 6, 6, 6, 6,\n",
       "        6, 6, 6, 6, 6, 6, 6, 6, 6, 6, 6, 6, 6, 6, 6, 6, 6, 6, 6, 6, 6, 6,\n",
       "        6, 6, 6, 6, 6, 6, 6, 6, 6, 6, 6, 6, 6, 6, 6, 6, 6, 6, 6, 6, 6, 6,\n",
       "        6, 6, 6, 6, 6, 6, 6, 6, 6, 6, 6, 6, 6, 6, 6, 6, 6, 6, 6, 6, 6, 6,\n",
       "        6, 6, 6, 6, 6, 6, 6, 6, 6, 6, 6, 6, 6, 6, 6, 6, 6, 6, 6, 6, 6, 6,\n",
       "        6, 6, 6, 6, 6, 6, 6, 6, 6, 6, 6, 6, 6, 6, 6, 6, 6, 6, 6, 6, 6, 6,\n",
       "        6, 6, 6, 6, 6, 6, 6, 6, 6, 6, 6, 6, 6, 6, 6, 6, 6, 6, 6, 6, 6, 6,\n",
       "        6, 6, 6, 6, 6, 6, 6, 6, 6, 6, 6, 6, 6, 6, 6, 6, 6, 6, 6, 6, 6, 6,\n",
       "        6, 6, 6, 6, 6, 6, 6, 6, 6, 6, 6, 6, 6, 6, 6, 6, 6, 6, 6, 6, 6, 6,\n",
       "        6, 6, 6, 6, 6, 6, 6, 6, 6, 6, 6, 6, 6, 6, 6, 6, 6, 6, 6, 6, 6, 6,\n",
       "        6, 6, 6, 6, 6, 6, 6, 6, 6, 6, 6, 6, 6, 6, 6, 6, 6, 6, 6, 6, 6, 6,\n",
       "        6, 6, 6, 6, 6, 6, 6, 6, 6, 6, 6, 6, 6, 6, 6, 6, 6, 6, 6, 6, 6, 6,\n",
       "        6, 6, 6, 6, 6, 6, 6, 6, 6, 6, 6, 6, 6, 6, 6, 6, 6, 6, 6, 6, 6, 6,\n",
       "        6, 6, 6, 6, 6, 6, 6, 6, 6, 6, 6, 6, 6, 6, 6, 6, 6, 6, 6, 6, 6, 6,\n",
       "        6, 6, 6, 6, 6, 6, 6, 6, 6, 6, 6, 6, 6, 6, 6, 6, 6, 6, 6, 6, 6, 6,\n",
       "        6, 6, 6, 6, 6, 6, 6, 6, 6, 6, 6, 6, 6, 6, 6, 6, 6, 6, 6, 6, 6, 6,\n",
       "        6, 6, 6, 6, 6, 6, 6, 6, 6, 6, 6, 6, 6, 6, 6, 6, 6, 6, 6, 6, 6, 6,\n",
       "        6, 6, 6, 6, 6, 6, 6, 6, 6, 6, 6, 6, 6, 6, 6, 6, 6, 6, 6, 6, 6, 6,\n",
       "        6, 6, 6, 6, 6, 6, 6, 6, 6, 6, 6, 6, 6, 6, 6, 6, 6, 6, 6, 6, 6, 6,\n",
       "        6, 6, 6, 6, 6, 6, 6, 6, 6, 6, 6, 6, 6, 6, 6, 6, 6, 6, 6, 6, 6, 6,\n",
       "        6, 6, 6, 6, 6, 6, 6, 6, 6, 6, 6, 6, 6, 6, 6, 6, 6, 6, 6, 6, 6, 6,\n",
       "        6, 6, 6, 6, 6, 6, 6, 6, 6, 6, 6, 6, 6, 6, 6, 6, 6, 6, 6, 6, 6, 6,\n",
       "        6, 6, 6, 6, 6, 6, 6, 6, 6, 6, 6, 6, 6, 6, 6, 6, 6, 6, 6, 6, 6, 6,\n",
       "        6, 6, 6, 6, 6, 6, 6, 6, 6, 6, 6, 6, 6, 6, 6, 6, 6, 6, 6, 6, 6, 6,\n",
       "        6, 6, 6, 6, 6, 6, 6, 6, 6, 6, 6, 6, 6, 6, 6, 6, 6, 6, 6, 6, 6, 6,\n",
       "        6, 6, 6, 6, 6, 6, 6, 6, 6, 6, 6, 6, 6, 6, 6, 6, 6, 6, 6, 6, 6, 6,\n",
       "        6, 6, 6, 6, 6, 6, 6, 6, 6, 6, 6, 6, 6, 6, 6, 6, 6, 6, 6, 6, 6, 6,\n",
       "        6, 6, 6, 6, 6, 6, 6, 6, 6, 6, 6, 6, 6, 6, 6, 6, 6, 6, 6, 6, 6, 6,\n",
       "        6, 6, 6, 6, 6, 6, 6, 6, 6, 6, 6, 6, 6, 6, 6, 6, 6, 6, 6, 6, 6, 6,\n",
       "        6, 6, 6, 6, 6, 6, 6, 6, 6, 6, 6, 6, 6, 6, 6, 6, 6, 6, 6, 6, 6, 6],\n",
       "       dtype=int64))"
      ]
     },
     "execution_count": 125,
     "metadata": {},
     "output_type": "execute_result"
    }
   ],
   "source": [
    "from scipy.stats import zscore\n",
    "import numpy as np\n",
    "z=np.abs(zscore(data))\n",
    "threshold=3\n",
    "np.where(z>3)"
   ]
  },
  {
   "cell_type": "code",
   "execution_count": 127,
   "id": "165f1259",
   "metadata": {},
   "outputs": [
    {
     "data": {
      "text/html": [
       "<div>\n",
       "<style scoped>\n",
       "    .dataframe tbody tr th:only-of-type {\n",
       "        vertical-align: middle;\n",
       "    }\n",
       "\n",
       "    .dataframe tbody tr th {\n",
       "        vertical-align: top;\n",
       "    }\n",
       "\n",
       "    .dataframe thead th {\n",
       "        text-align: right;\n",
       "    }\n",
       "</style>\n",
       "<table border=\"1\" class=\"dataframe\">\n",
       "  <thead>\n",
       "    <tr style=\"text-align: right;\">\n",
       "      <th></th>\n",
       "      <th>customerID</th>\n",
       "      <th>gender</th>\n",
       "      <th>SeniorCitizen</th>\n",
       "      <th>Partner</th>\n",
       "      <th>Dependents</th>\n",
       "      <th>tenure</th>\n",
       "      <th>PhoneService</th>\n",
       "      <th>MultipleLines</th>\n",
       "      <th>InternetService</th>\n",
       "      <th>OnlineSecurity</th>\n",
       "      <th>...</th>\n",
       "      <th>DeviceProtection</th>\n",
       "      <th>TechSupport</th>\n",
       "      <th>StreamingTV</th>\n",
       "      <th>StreamingMovies</th>\n",
       "      <th>Contract</th>\n",
       "      <th>PaperlessBilling</th>\n",
       "      <th>PaymentMethod</th>\n",
       "      <th>MonthlyCharges</th>\n",
       "      <th>TotalCharges</th>\n",
       "      <th>Churn</th>\n",
       "    </tr>\n",
       "  </thead>\n",
       "  <tbody>\n",
       "    <tr>\n",
       "      <th>1</th>\n",
       "      <td>3962.0</td>\n",
       "      <td>1.0</td>\n",
       "      <td>0</td>\n",
       "      <td>0.0</td>\n",
       "      <td>0.0</td>\n",
       "      <td>34</td>\n",
       "      <td>1.0</td>\n",
       "      <td>0.0</td>\n",
       "      <td>0.0</td>\n",
       "      <td>2.0</td>\n",
       "      <td>...</td>\n",
       "      <td>2.0</td>\n",
       "      <td>0.0</td>\n",
       "      <td>0.0</td>\n",
       "      <td>0.0</td>\n",
       "      <td>1.0</td>\n",
       "      <td>0.0</td>\n",
       "      <td>3.0</td>\n",
       "      <td>56.95</td>\n",
       "      <td>1889.50</td>\n",
       "      <td>0.0</td>\n",
       "    </tr>\n",
       "    <tr>\n",
       "      <th>2</th>\n",
       "      <td>2564.0</td>\n",
       "      <td>1.0</td>\n",
       "      <td>0</td>\n",
       "      <td>0.0</td>\n",
       "      <td>0.0</td>\n",
       "      <td>2</td>\n",
       "      <td>1.0</td>\n",
       "      <td>0.0</td>\n",
       "      <td>0.0</td>\n",
       "      <td>2.0</td>\n",
       "      <td>...</td>\n",
       "      <td>0.0</td>\n",
       "      <td>0.0</td>\n",
       "      <td>0.0</td>\n",
       "      <td>0.0</td>\n",
       "      <td>0.0</td>\n",
       "      <td>1.0</td>\n",
       "      <td>3.0</td>\n",
       "      <td>53.85</td>\n",
       "      <td>108.15</td>\n",
       "      <td>1.0</td>\n",
       "    </tr>\n",
       "    <tr>\n",
       "      <th>4</th>\n",
       "      <td>6511.0</td>\n",
       "      <td>0.0</td>\n",
       "      <td>0</td>\n",
       "      <td>0.0</td>\n",
       "      <td>0.0</td>\n",
       "      <td>2</td>\n",
       "      <td>1.0</td>\n",
       "      <td>0.0</td>\n",
       "      <td>1.0</td>\n",
       "      <td>0.0</td>\n",
       "      <td>...</td>\n",
       "      <td>0.0</td>\n",
       "      <td>0.0</td>\n",
       "      <td>0.0</td>\n",
       "      <td>0.0</td>\n",
       "      <td>0.0</td>\n",
       "      <td>1.0</td>\n",
       "      <td>2.0</td>\n",
       "      <td>70.70</td>\n",
       "      <td>151.65</td>\n",
       "      <td>1.0</td>\n",
       "    </tr>\n",
       "    <tr>\n",
       "      <th>5</th>\n",
       "      <td>6551.0</td>\n",
       "      <td>0.0</td>\n",
       "      <td>0</td>\n",
       "      <td>0.0</td>\n",
       "      <td>0.0</td>\n",
       "      <td>8</td>\n",
       "      <td>1.0</td>\n",
       "      <td>2.0</td>\n",
       "      <td>1.0</td>\n",
       "      <td>0.0</td>\n",
       "      <td>...</td>\n",
       "      <td>2.0</td>\n",
       "      <td>0.0</td>\n",
       "      <td>2.0</td>\n",
       "      <td>2.0</td>\n",
       "      <td>0.0</td>\n",
       "      <td>1.0</td>\n",
       "      <td>2.0</td>\n",
       "      <td>99.65</td>\n",
       "      <td>820.50</td>\n",
       "      <td>1.0</td>\n",
       "    </tr>\n",
       "    <tr>\n",
       "      <th>6</th>\n",
       "      <td>1002.0</td>\n",
       "      <td>1.0</td>\n",
       "      <td>0</td>\n",
       "      <td>0.0</td>\n",
       "      <td>1.0</td>\n",
       "      <td>22</td>\n",
       "      <td>1.0</td>\n",
       "      <td>2.0</td>\n",
       "      <td>1.0</td>\n",
       "      <td>0.0</td>\n",
       "      <td>...</td>\n",
       "      <td>0.0</td>\n",
       "      <td>0.0</td>\n",
       "      <td>2.0</td>\n",
       "      <td>0.0</td>\n",
       "      <td>0.0</td>\n",
       "      <td>1.0</td>\n",
       "      <td>1.0</td>\n",
       "      <td>89.10</td>\n",
       "      <td>1949.40</td>\n",
       "      <td>0.0</td>\n",
       "    </tr>\n",
       "    <tr>\n",
       "      <th>...</th>\n",
       "      <td>...</td>\n",
       "      <td>...</td>\n",
       "      <td>...</td>\n",
       "      <td>...</td>\n",
       "      <td>...</td>\n",
       "      <td>...</td>\n",
       "      <td>...</td>\n",
       "      <td>...</td>\n",
       "      <td>...</td>\n",
       "      <td>...</td>\n",
       "      <td>...</td>\n",
       "      <td>...</td>\n",
       "      <td>...</td>\n",
       "      <td>...</td>\n",
       "      <td>...</td>\n",
       "      <td>...</td>\n",
       "      <td>...</td>\n",
       "      <td>...</td>\n",
       "      <td>...</td>\n",
       "      <td>...</td>\n",
       "      <td>...</td>\n",
       "    </tr>\n",
       "    <tr>\n",
       "      <th>7037</th>\n",
       "      <td>1758.0</td>\n",
       "      <td>0.0</td>\n",
       "      <td>0</td>\n",
       "      <td>0.0</td>\n",
       "      <td>0.0</td>\n",
       "      <td>72</td>\n",
       "      <td>1.0</td>\n",
       "      <td>0.0</td>\n",
       "      <td>2.0</td>\n",
       "      <td>1.0</td>\n",
       "      <td>...</td>\n",
       "      <td>1.0</td>\n",
       "      <td>1.0</td>\n",
       "      <td>1.0</td>\n",
       "      <td>1.0</td>\n",
       "      <td>2.0</td>\n",
       "      <td>1.0</td>\n",
       "      <td>0.0</td>\n",
       "      <td>21.15</td>\n",
       "      <td>1419.40</td>\n",
       "      <td>0.0</td>\n",
       "    </tr>\n",
       "    <tr>\n",
       "      <th>7038</th>\n",
       "      <td>4853.0</td>\n",
       "      <td>1.0</td>\n",
       "      <td>0</td>\n",
       "      <td>1.0</td>\n",
       "      <td>1.0</td>\n",
       "      <td>24</td>\n",
       "      <td>1.0</td>\n",
       "      <td>2.0</td>\n",
       "      <td>0.0</td>\n",
       "      <td>2.0</td>\n",
       "      <td>...</td>\n",
       "      <td>2.0</td>\n",
       "      <td>2.0</td>\n",
       "      <td>2.0</td>\n",
       "      <td>2.0</td>\n",
       "      <td>1.0</td>\n",
       "      <td>1.0</td>\n",
       "      <td>3.0</td>\n",
       "      <td>84.80</td>\n",
       "      <td>1990.50</td>\n",
       "      <td>0.0</td>\n",
       "    </tr>\n",
       "    <tr>\n",
       "      <th>7039</th>\n",
       "      <td>1525.0</td>\n",
       "      <td>0.0</td>\n",
       "      <td>0</td>\n",
       "      <td>1.0</td>\n",
       "      <td>1.0</td>\n",
       "      <td>72</td>\n",
       "      <td>1.0</td>\n",
       "      <td>2.0</td>\n",
       "      <td>1.0</td>\n",
       "      <td>0.0</td>\n",
       "      <td>...</td>\n",
       "      <td>2.0</td>\n",
       "      <td>0.0</td>\n",
       "      <td>2.0</td>\n",
       "      <td>2.0</td>\n",
       "      <td>1.0</td>\n",
       "      <td>1.0</td>\n",
       "      <td>1.0</td>\n",
       "      <td>103.20</td>\n",
       "      <td>7362.90</td>\n",
       "      <td>0.0</td>\n",
       "    </tr>\n",
       "    <tr>\n",
       "      <th>7041</th>\n",
       "      <td>5934.0</td>\n",
       "      <td>1.0</td>\n",
       "      <td>1</td>\n",
       "      <td>1.0</td>\n",
       "      <td>0.0</td>\n",
       "      <td>4</td>\n",
       "      <td>1.0</td>\n",
       "      <td>2.0</td>\n",
       "      <td>1.0</td>\n",
       "      <td>0.0</td>\n",
       "      <td>...</td>\n",
       "      <td>0.0</td>\n",
       "      <td>0.0</td>\n",
       "      <td>0.0</td>\n",
       "      <td>0.0</td>\n",
       "      <td>0.0</td>\n",
       "      <td>1.0</td>\n",
       "      <td>3.0</td>\n",
       "      <td>74.40</td>\n",
       "      <td>306.60</td>\n",
       "      <td>1.0</td>\n",
       "    </tr>\n",
       "    <tr>\n",
       "      <th>7042</th>\n",
       "      <td>2226.0</td>\n",
       "      <td>1.0</td>\n",
       "      <td>0</td>\n",
       "      <td>0.0</td>\n",
       "      <td>0.0</td>\n",
       "      <td>66</td>\n",
       "      <td>1.0</td>\n",
       "      <td>0.0</td>\n",
       "      <td>1.0</td>\n",
       "      <td>2.0</td>\n",
       "      <td>...</td>\n",
       "      <td>2.0</td>\n",
       "      <td>2.0</td>\n",
       "      <td>2.0</td>\n",
       "      <td>2.0</td>\n",
       "      <td>2.0</td>\n",
       "      <td>1.0</td>\n",
       "      <td>0.0</td>\n",
       "      <td>105.65</td>\n",
       "      <td>6844.50</td>\n",
       "      <td>0.0</td>\n",
       "    </tr>\n",
       "  </tbody>\n",
       "</table>\n",
       "<p>6361 rows × 21 columns</p>\n",
       "</div>"
      ],
      "text/plain": [
       "      customerID  gender  SeniorCitizen  Partner  Dependents  tenure  \\\n",
       "1         3962.0     1.0              0      0.0         0.0      34   \n",
       "2         2564.0     1.0              0      0.0         0.0       2   \n",
       "4         6511.0     0.0              0      0.0         0.0       2   \n",
       "5         6551.0     0.0              0      0.0         0.0       8   \n",
       "6         1002.0     1.0              0      0.0         1.0      22   \n",
       "...          ...     ...            ...      ...         ...     ...   \n",
       "7037      1758.0     0.0              0      0.0         0.0      72   \n",
       "7038      4853.0     1.0              0      1.0         1.0      24   \n",
       "7039      1525.0     0.0              0      1.0         1.0      72   \n",
       "7041      5934.0     1.0              1      1.0         0.0       4   \n",
       "7042      2226.0     1.0              0      0.0         0.0      66   \n",
       "\n",
       "      PhoneService  MultipleLines  InternetService  OnlineSecurity  ...  \\\n",
       "1              1.0            0.0              0.0             2.0  ...   \n",
       "2              1.0            0.0              0.0             2.0  ...   \n",
       "4              1.0            0.0              1.0             0.0  ...   \n",
       "5              1.0            2.0              1.0             0.0  ...   \n",
       "6              1.0            2.0              1.0             0.0  ...   \n",
       "...            ...            ...              ...             ...  ...   \n",
       "7037           1.0            0.0              2.0             1.0  ...   \n",
       "7038           1.0            2.0              0.0             2.0  ...   \n",
       "7039           1.0            2.0              1.0             0.0  ...   \n",
       "7041           1.0            2.0              1.0             0.0  ...   \n",
       "7042           1.0            0.0              1.0             2.0  ...   \n",
       "\n",
       "      DeviceProtection  TechSupport  StreamingTV  StreamingMovies  Contract  \\\n",
       "1                  2.0          0.0          0.0              0.0       1.0   \n",
       "2                  0.0          0.0          0.0              0.0       0.0   \n",
       "4                  0.0          0.0          0.0              0.0       0.0   \n",
       "5                  2.0          0.0          2.0              2.0       0.0   \n",
       "6                  0.0          0.0          2.0              0.0       0.0   \n",
       "...                ...          ...          ...              ...       ...   \n",
       "7037               1.0          1.0          1.0              1.0       2.0   \n",
       "7038               2.0          2.0          2.0              2.0       1.0   \n",
       "7039               2.0          0.0          2.0              2.0       1.0   \n",
       "7041               0.0          0.0          0.0              0.0       0.0   \n",
       "7042               2.0          2.0          2.0              2.0       2.0   \n",
       "\n",
       "      PaperlessBilling  PaymentMethod  MonthlyCharges  TotalCharges  Churn  \n",
       "1                  0.0            3.0           56.95       1889.50    0.0  \n",
       "2                  1.0            3.0           53.85        108.15    1.0  \n",
       "4                  1.0            2.0           70.70        151.65    1.0  \n",
       "5                  1.0            2.0           99.65        820.50    1.0  \n",
       "6                  1.0            1.0           89.10       1949.40    0.0  \n",
       "...                ...            ...             ...           ...    ...  \n",
       "7037               1.0            0.0           21.15       1419.40    0.0  \n",
       "7038               1.0            3.0           84.80       1990.50    0.0  \n",
       "7039               1.0            1.0          103.20       7362.90    0.0  \n",
       "7041               1.0            3.0           74.40        306.60    1.0  \n",
       "7042               1.0            0.0          105.65       6844.50    0.0  \n",
       "\n",
       "[6361 rows x 21 columns]"
      ]
     },
     "execution_count": 127,
     "metadata": {},
     "output_type": "execute_result"
    }
   ],
   "source": [
    "df_new_z=data[(z<3).all(axis=1)]\n",
    "df_new_z"
   ]
  },
  {
   "cell_type": "code",
   "execution_count": 128,
   "id": "acefe64a",
   "metadata": {},
   "outputs": [
    {
     "data": {
      "text/plain": [
       "(6361, 21)"
      ]
     },
     "execution_count": 128,
     "metadata": {},
     "output_type": "execute_result"
    }
   ],
   "source": [
    "df_new_z.shape"
   ]
  },
  {
   "cell_type": "code",
   "execution_count": 129,
   "id": "4786d418",
   "metadata": {},
   "outputs": [],
   "source": [
    "#Percentage loss of data"
   ]
  },
  {
   "cell_type": "code",
   "execution_count": 130,
   "id": "9c332f29",
   "metadata": {},
   "outputs": [],
   "source": [
    "data_loss=((7043-636)/7043)*100"
   ]
  },
  {
   "cell_type": "code",
   "execution_count": 131,
   "id": "a56d24e0",
   "metadata": {},
   "outputs": [
    {
     "data": {
      "text/plain": [
       "90.96975720573619"
      ]
     },
     "execution_count": 131,
     "metadata": {},
     "output_type": "execute_result"
    }
   ],
   "source": [
    "data_loss"
   ]
  },
  {
   "cell_type": "markdown",
   "id": "cd5a5f9c",
   "metadata": {},
   "source": [
    "Our data is becoming biased as it is not considering the case senior citizen. Thus , we will not remove outliers."
   ]
  },
  {
   "cell_type": "markdown",
   "id": "541ddd5a",
   "metadata": {},
   "source": [
    "# Separating the columns into feature and target\n"
   ]
  },
  {
   "cell_type": "code",
   "execution_count": 133,
   "id": "34e42354",
   "metadata": {},
   "outputs": [],
   "source": [
    "feature=data.drop(\"TotalCharges\",axis=1)\n",
    "target=data['TotalCharges']"
   ]
  },
  {
   "cell_type": "markdown",
   "id": "06424d7e",
   "metadata": {},
   "source": [
    "#  Scaling the data using MinMaxScaler"
   ]
  },
  {
   "cell_type": "code",
   "execution_count": 141,
   "id": "7cc18358",
   "metadata": {},
   "outputs": [],
   "source": [
    "from sklearn.preprocessing import MinMaxScaler\n",
    "mms=MinMaxScaler()\n",
    "from sklearn.linear_model import LinearRegression\n",
    "lr=LinearRegression()\n",
    "from sklearn.metrics import r2_score\n",
    "\n",
    "from sklearn.model_selection import train_test_split"
   ]
  },
  {
   "cell_type": "code",
   "execution_count": 142,
   "id": "10e1e054",
   "metadata": {},
   "outputs": [],
   "source": [
    "import warnings\n",
    "warnings.filterwarnings('ignore')"
   ]
  },
  {
   "cell_type": "code",
   "execution_count": 148,
   "id": "42390b0d",
   "metadata": {},
   "outputs": [
    {
     "name": "stdout",
     "output_type": "stream",
     "text": [
      " At random state 0 , the testing accuracy is :- 0.9058706722803965\n",
      " At random state 0 , the testing accuracy is :- 0.8977317673785853\n",
      "\n",
      "\n",
      " At random state 1 , the testing accuracy is :- 0.9052277082152647\n",
      " At random state 1 , the testing accuracy is :- 0.9003132716690803\n",
      "\n",
      "\n",
      " At random state 2 , the testing accuracy is :- 0.9056858398935237\n",
      " At random state 2 , the testing accuracy is :- 0.8984735750686543\n",
      "\n",
      "\n",
      " At random state 3 , the testing accuracy is :- 0.9044956724241889\n",
      " At random state 3 , the testing accuracy is :- 0.9032713403489679\n",
      "\n",
      "\n",
      " At random state 4 , the testing accuracy is :- 0.9031354749784841\n",
      " At random state 4 , the testing accuracy is :- 0.9085937883962479\n",
      "\n",
      "\n",
      " At random state 5 , the testing accuracy is :- 0.9026338340566922\n",
      " At random state 5 , the testing accuracy is :- 0.9101290251842342\n",
      "\n",
      "\n",
      " At random state 6 , the testing accuracy is :- 0.9028087364691222\n",
      " At random state 6 , the testing accuracy is :- 0.9097783155230829\n",
      "\n",
      "\n",
      " At random state 7 , the testing accuracy is :- 0.9030731852162728\n",
      " At random state 7 , the testing accuracy is :- 0.9090152662295625\n",
      "\n",
      "\n",
      " At random state 8 , the testing accuracy is :- 0.9031695399147395\n",
      " At random state 8 , the testing accuracy is :- 0.90898402528887\n",
      "\n",
      "\n",
      " At random state 9 , the testing accuracy is :- 0.9034746951288705\n",
      " At random state 9 , the testing accuracy is :- 0.9074646730902043\n",
      "\n",
      "\n",
      " At random state 10 , the testing accuracy is :- 0.9039273530214657\n",
      " At random state 10 , the testing accuracy is :- 0.9057313444009284\n",
      "\n",
      "\n",
      " At random state 11 , the testing accuracy is :- 0.90416749132796\n",
      " At random state 11 , the testing accuracy is :- 0.9047686807132889\n",
      "\n",
      "\n",
      " At random state 12 , the testing accuracy is :- 0.904295058479142\n",
      " At random state 12 , the testing accuracy is :- 0.9042173834952026\n",
      "\n",
      "\n",
      " At random state 13 , the testing accuracy is :- 0.9061128342153906\n",
      " At random state 13 , the testing accuracy is :- 0.897031636227697\n",
      "\n",
      "\n",
      " At random state 14 , the testing accuracy is :- 0.9032235219356886\n",
      " At random state 14 , the testing accuracy is :- 0.9085611847383553\n",
      "\n",
      "\n",
      " At random state 15 , the testing accuracy is :- 0.9036417240520398\n",
      " At random state 15 , the testing accuracy is :- 0.9065354335769835\n",
      "\n",
      "\n",
      " At random state 16 , the testing accuracy is :- 0.902513180979179\n",
      " At random state 16 , the testing accuracy is :- 0.9108718638407581\n",
      "\n",
      "\n",
      " At random state 17 , the testing accuracy is :- 0.9029763238324856\n",
      " At random state 17 , the testing accuracy is :- 0.9090481298163141\n",
      "\n",
      "\n",
      " At random state 18 , the testing accuracy is :- 0.9040046108882651\n",
      " At random state 18 , the testing accuracy is :- 0.9053965803704587\n",
      "\n",
      "\n",
      " At random state 19 , the testing accuracy is :- 0.9034412311305086\n",
      " At random state 19 , the testing accuracy is :- 0.9074326529099017\n",
      "\n",
      "\n",
      " At random state 20 , the testing accuracy is :- 0.9038114387313897\n",
      " At random state 20 , the testing accuracy is :- 0.9061900564918883\n",
      "\n",
      "\n",
      " At random state 21 , the testing accuracy is :- 0.9052547201538726\n",
      " At random state 21 , the testing accuracy is :- 0.9001811940034148\n",
      "\n",
      "\n",
      " At random state 22 , the testing accuracy is :- 0.9048855878445041\n",
      " At random state 22 , the testing accuracy is :- 0.9016245686679341\n",
      "\n",
      "\n",
      " At random state 23 , the testing accuracy is :- 0.9059052667946395\n",
      " At random state 23 , the testing accuracy is :- 0.8976868590676574\n",
      "\n",
      "\n",
      " At random state 24 , the testing accuracy is :- 0.9053663827385406\n",
      " At random state 24 , the testing accuracy is :- 0.8997190802019651\n",
      "\n",
      "\n",
      " At random state 25 , the testing accuracy is :- 0.903685000193504\n",
      " At random state 25 , the testing accuracy is :- 0.9065995296286031\n",
      "\n",
      "\n",
      " At random state 26 , the testing accuracy is :- 0.9037524003267481\n",
      " At random state 26 , the testing accuracy is :- 0.9061850448849735\n",
      "\n",
      "\n",
      " At random state 27 , the testing accuracy is :- 0.9030722283453853\n",
      " At random state 27 , the testing accuracy is :- 0.9087578489908286\n",
      "\n",
      "\n",
      " At random state 28 , the testing accuracy is :- 0.9054780543804204\n",
      " At random state 28 , the testing accuracy is :- 0.8991985090730239\n",
      "\n",
      "\n",
      " At random state 29 , the testing accuracy is :- 0.9047235288114399\n",
      " At random state 29 , the testing accuracy is :- 0.9025044586744998\n",
      "\n",
      "\n",
      " At random state 30 , the testing accuracy is :- 0.9035962408729578\n",
      " At random state 30 , the testing accuracy is :- 0.9067861658008063\n",
      "\n",
      "\n",
      " At random state 31 , the testing accuracy is :- 0.9044003239480541\n",
      " At random state 31 , the testing accuracy is :- 0.903712562074893\n",
      "\n",
      "\n",
      " At random state 32 , the testing accuracy is :- 0.9028047145643671\n",
      " At random state 32 , the testing accuracy is :- 0.9098566404249447\n",
      "\n",
      "\n",
      " At random state 33 , the testing accuracy is :- 0.9047735766069083\n",
      " At random state 33 , the testing accuracy is :- 0.9021133188918244\n",
      "\n",
      "\n",
      " At random state 34 , the testing accuracy is :- 0.9049786467757772\n",
      " At random state 34 , the testing accuracy is :- 0.9011095018903077\n",
      "\n",
      "\n",
      " At random state 35 , the testing accuracy is :- 0.9037330831087504\n",
      " At random state 35 , the testing accuracy is :- 0.905903201158931\n",
      "\n",
      "\n",
      " At random state 36 , the testing accuracy is :- 0.9040782338670285\n",
      " At random state 36 , the testing accuracy is :- 0.9049467803295628\n",
      "\n",
      "\n",
      " At random state 37 , the testing accuracy is :- 0.9049346713834419\n",
      " At random state 37 , the testing accuracy is :- 0.9017136587653212\n",
      "\n",
      "\n",
      " At random state 38 , the testing accuracy is :- 0.9043316704545361\n",
      " At random state 38 , the testing accuracy is :- 0.9039556111083564\n",
      "\n",
      "\n",
      " At random state 39 , the testing accuracy is :- 0.9057209215860212\n",
      " At random state 39 , the testing accuracy is :- 0.8981082476351732\n",
      "\n",
      "\n",
      " At random state 40 , the testing accuracy is :- 0.9043830357530264\n",
      " At random state 40 , the testing accuracy is :- 0.9036195276240675\n",
      "\n",
      "\n",
      " At random state 41 , the testing accuracy is :- 0.9061788339663605\n",
      " At random state 41 , the testing accuracy is :- 0.8952155358316557\n",
      "\n",
      "\n",
      " At random state 42 , the testing accuracy is :- 0.9042763981184584\n",
      " At random state 42 , the testing accuracy is :- 0.9043375885852347\n",
      "\n",
      "\n",
      " At random state 43 , the testing accuracy is :- 0.9041690353549867\n",
      " At random state 43 , the testing accuracy is :- 0.904677748523788\n",
      "\n",
      "\n",
      " At random state 44 , the testing accuracy is :- 0.9048407302717054\n",
      " At random state 44 , the testing accuracy is :- 0.9019029244635622\n",
      "\n",
      "\n",
      " At random state 45 , the testing accuracy is :- 0.9030056669158852\n",
      " At random state 45 , the testing accuracy is :- 0.909108715874396\n",
      "\n",
      "\n",
      " At random state 46 , the testing accuracy is :- 0.9024053251978693\n",
      " At random state 46 , the testing accuracy is :- 0.911608672200972\n",
      "\n",
      "\n",
      " At random state 47 , the testing accuracy is :- 0.9043177434505593\n",
      " At random state 47 , the testing accuracy is :- 0.9040394943062147\n",
      "\n",
      "\n",
      " At random state 48 , the testing accuracy is :- 0.9052833528349797\n",
      " At random state 48 , the testing accuracy is :- 0.900168337535729\n",
      "\n",
      "\n",
      " At random state 49 , the testing accuracy is :- 0.9040309769515148\n",
      " At random state 49 , the testing accuracy is :- 0.9053309511030215\n",
      "\n",
      "\n",
      " At random state 50 , the testing accuracy is :- 0.9041430357670286\n",
      " At random state 50 , the testing accuracy is :- 0.9046230242503388\n",
      "\n",
      "\n",
      " At random state 51 , the testing accuracy is :- 0.9050791909207966\n",
      " At random state 51 , the testing accuracy is :- 0.9009062115764117\n",
      "\n",
      "\n",
      " At random state 52 , the testing accuracy is :- 0.9057472494605133\n",
      " At random state 52 , the testing accuracy is :- 0.8979747318915886\n",
      "\n",
      "\n",
      " At random state 53 , the testing accuracy is :- 0.9038687373130406\n",
      " At random state 53 , the testing accuracy is :- 0.9058118603722989\n",
      "\n",
      "\n",
      " At random state 54 , the testing accuracy is :- 0.9041451902842421\n",
      " At random state 54 , the testing accuracy is :- 0.9049260764058584\n",
      "\n",
      "\n",
      " At random state 55 , the testing accuracy is :- 0.9048038386573602\n",
      " At random state 55 , the testing accuracy is :- 0.9019163290729311\n",
      "\n",
      "\n",
      " At random state 56 , the testing accuracy is :- 0.9032698863946899\n",
      " At random state 56 , the testing accuracy is :- 0.9081499952718461\n",
      "\n",
      "\n",
      " At random state 57 , the testing accuracy is :- 0.9040159421826726\n",
      " At random state 57 , the testing accuracy is :- 0.9052917838090728\n",
      "\n",
      "\n",
      " At random state 58 , the testing accuracy is :- 0.9049232212627427\n",
      " At random state 58 , the testing accuracy is :- 0.901684642462667\n",
      "\n",
      "\n",
      " At random state 59 , the testing accuracy is :- 0.9040039362281472\n",
      " At random state 59 , the testing accuracy is :- 0.9052270944903531\n",
      "\n",
      "\n",
      " At random state 60 , the testing accuracy is :- 0.9040991531443305\n",
      " At random state 60 , the testing accuracy is :- 0.9050528820107\n",
      "\n",
      "\n",
      " At random state 61 , the testing accuracy is :- 0.9040256222312663\n",
      " At random state 61 , the testing accuracy is :- 0.9053914732775237\n",
      "\n",
      "\n",
      " At random state 62 , the testing accuracy is :- 0.9049700265530704\n",
      " At random state 62 , the testing accuracy is :- 0.9014150456937692\n",
      "\n",
      "\n",
      " At random state 63 , the testing accuracy is :- 0.9048964501700321\n",
      " At random state 63 , the testing accuracy is :- 0.9014758874088666\n",
      "\n",
      "\n",
      " At random state 64 , the testing accuracy is :- 0.9045170165947284\n",
      " At random state 64 , the testing accuracy is :- 0.9031967303238563\n",
      "\n",
      "\n",
      " At random state 65 , the testing accuracy is :- 0.9045009415426986\n",
      " At random state 65 , the testing accuracy is :- 0.9032852823020272\n",
      "\n",
      "\n",
      " At random state 66 , the testing accuracy is :- 0.9064055684861096\n",
      " At random state 66 , the testing accuracy is :- 0.8953698509727253\n",
      "\n",
      "\n",
      " At random state 67 , the testing accuracy is :- 0.9057993770221395\n",
      " At random state 67 , the testing accuracy is :- 0.898050834773779\n",
      "\n",
      "\n",
      " At random state 68 , the testing accuracy is :- 0.9044724983486807\n",
      " At random state 68 , the testing accuracy is :- 0.9035221768135269\n",
      "\n",
      "\n",
      " At random state 69 , the testing accuracy is :- 0.90348558752445\n",
      " At random state 69 , the testing accuracy is :- 0.9071884489486347\n",
      "\n",
      "\n",
      " At random state 70 , the testing accuracy is :- 0.9054404384519645\n",
      " At random state 70 , the testing accuracy is :- 0.8992328133130174\n",
      "\n",
      "\n",
      " At random state 71 , the testing accuracy is :- 0.9048853138919165\n",
      " At random state 71 , the testing accuracy is :- 0.901927424405518\n",
      "\n",
      "\n",
      " At random state 72 , the testing accuracy is :- 0.9037795522356793\n",
      " At random state 72 , the testing accuracy is :- 0.9060130441686692\n",
      "\n",
      "\n",
      " At random state 73 , the testing accuracy is :- 0.9043793318277787\n",
      " At random state 73 , the testing accuracy is :- 0.9038411202508\n",
      "\n",
      "\n",
      " At random state 74 , the testing accuracy is :- 0.9033485778029404\n",
      " At random state 74 , the testing accuracy is :- 0.9074051047090448\n",
      "\n",
      "\n",
      " At random state 75 , the testing accuracy is :- 0.9057119465169854\n",
      " At random state 75 , the testing accuracy is :- 0.8976818783186071\n",
      "\n",
      "\n",
      " At random state 76 , the testing accuracy is :- 0.9051003915397745\n",
      " At random state 76 , the testing accuracy is :- 0.9010244334140172\n",
      "\n",
      "\n",
      " At random state 77 , the testing accuracy is :- 0.9034097271922368\n",
      " At random state 77 , the testing accuracy is :- 0.9074913676761285\n",
      "\n",
      "\n",
      " At random state 78 , the testing accuracy is :- 0.905987042620559\n",
      " At random state 78 , the testing accuracy is :- 0.8970084184465956\n",
      "\n",
      "\n",
      " At random state 79 , the testing accuracy is :- 0.9043756629933157\n",
      " At random state 79 , the testing accuracy is :- 0.9036897034456827\n",
      "\n",
      "\n",
      " At random state 80 , the testing accuracy is :- 0.9053112833890031\n",
      " At random state 80 , the testing accuracy is :- 0.9002320463451685\n",
      "\n",
      "\n",
      " At random state 81 , the testing accuracy is :- 0.9028680398042733\n",
      " At random state 81 , the testing accuracy is :- 0.9098705450239996\n",
      "\n",
      "\n",
      " At random state 82 , the testing accuracy is :- 0.9037206884943083\n",
      " At random state 82 , the testing accuracy is :- 0.9063213748017843\n",
      "\n",
      "\n",
      " At random state 83 , the testing accuracy is :- 0.9042451140153229\n",
      " At random state 83 , the testing accuracy is :- 0.9041776566705202\n",
      "\n",
      "\n",
      " At random state 84 , the testing accuracy is :- 0.9042650538479906\n",
      " At random state 84 , the testing accuracy is :- 0.9039071924779171\n",
      "\n",
      "\n",
      " At random state 85 , the testing accuracy is :- 0.9038522237073595\n",
      " At random state 85 , the testing accuracy is :- 0.9058382750965496\n",
      "\n",
      "\n",
      " At random state 86 , the testing accuracy is :- 0.9057269245906101\n",
      " At random state 86 , the testing accuracy is :- 0.8984555261710995\n",
      "\n",
      "\n",
      " At random state 87 , the testing accuracy is :- 0.9054777196187391\n",
      " At random state 87 , the testing accuracy is :- 0.8988482887032029\n",
      "\n",
      "\n",
      " At random state 88 , the testing accuracy is :- 0.9047030889566885\n",
      " At random state 88 , the testing accuracy is :- 0.902495740603397\n",
      "\n",
      "\n",
      " At random state 89 , the testing accuracy is :- 0.9045420586102184\n",
      " At random state 89 , the testing accuracy is :- 0.9031864925483946\n",
      "\n",
      "\n",
      " At random state 90 , the testing accuracy is :- 0.9048069320572603\n",
      " At random state 90 , the testing accuracy is :- 0.9022157368686377\n",
      "\n",
      "\n",
      " At random state 91 , the testing accuracy is :- 0.9049367064481673\n",
      " At random state 91 , the testing accuracy is :- 0.9013048820312389\n",
      "\n",
      "\n",
      " At random state 92 , the testing accuracy is :- 0.9042675540815928\n",
      " At random state 92 , the testing accuracy is :- 0.9043618095945535\n",
      "\n",
      "\n",
      " At random state 93 , the testing accuracy is :- 0.9042303863846127\n",
      " At random state 93 , the testing accuracy is :- 0.9044657307246112\n",
      "\n",
      "\n",
      " At random state 94 , the testing accuracy is :- 0.9053735146691096\n",
      " At random state 94 , the testing accuracy is :- 0.8995056721418931\n",
      "\n",
      "\n",
      " At random state 95 , the testing accuracy is :- 0.9037717180603756\n",
      " At random state 95 , the testing accuracy is :- 0.9062435677509014\n",
      "\n",
      "\n",
      " At random state 96 , the testing accuracy is :- 0.9033742333995305\n",
      " At random state 96 , the testing accuracy is :- 0.9076253111656025\n",
      "\n",
      "\n",
      " At random state 97 , the testing accuracy is :- 0.904887476272588\n",
      " At random state 97 , the testing accuracy is :- 0.9018859022273356\n",
      "\n",
      "\n",
      " At random state 98 , the testing accuracy is :- 0.9039706568500258\n",
      " At random state 98 , the testing accuracy is :- 0.90546308124478\n",
      "\n",
      "\n",
      " At random state 99 , the testing accuracy is :- 0.9034341582897005\n",
      " At random state 99 , the testing accuracy is :- 0.907603041316329\n",
      "\n",
      "\n"
     ]
    }
   ],
   "source": [
    "for i in range(0,100):\n",
    "    x_train,x_test,y_train,y_test=train_test_split(feature,target,test_size=0.2,random_state=i)\n",
    "    lr.fit(x_train,y_train)\n",
    "    x_pred=lr.predict(x_train)\n",
    "    y_pred=lr.predict(x_test)\n",
    "    print(f\" At random state {i} , the testing accuracy is :- {r2_score(y_train,x_pred)}\")\n",
    "    print(f\" At random state {i} , the testing accuracy is :- {r2_score(y_test,y_pred)}\")\n",
    "    print(\"\\n\")"
   ]
  },
  {
   "cell_type": "code",
   "execution_count": 149,
   "id": "1c4263f3",
   "metadata": {},
   "outputs": [],
   "source": [
    "x_train,x_test,y_train,y_test=train_test_split(feature,target,test_size=0.2,random_state=12)\n"
   ]
  },
  {
   "cell_type": "code",
   "execution_count": 150,
   "id": "16278986",
   "metadata": {},
   "outputs": [
    {
     "data": {
      "text/html": [
       "<style>#sk-container-id-1 {color: black;background-color: white;}#sk-container-id-1 pre{padding: 0;}#sk-container-id-1 div.sk-toggleable {background-color: white;}#sk-container-id-1 label.sk-toggleable__label {cursor: pointer;display: block;width: 100%;margin-bottom: 0;padding: 0.3em;box-sizing: border-box;text-align: center;}#sk-container-id-1 label.sk-toggleable__label-arrow:before {content: \"▸\";float: left;margin-right: 0.25em;color: #696969;}#sk-container-id-1 label.sk-toggleable__label-arrow:hover:before {color: black;}#sk-container-id-1 div.sk-estimator:hover label.sk-toggleable__label-arrow:before {color: black;}#sk-container-id-1 div.sk-toggleable__content {max-height: 0;max-width: 0;overflow: hidden;text-align: left;background-color: #f0f8ff;}#sk-container-id-1 div.sk-toggleable__content pre {margin: 0.2em;color: black;border-radius: 0.25em;background-color: #f0f8ff;}#sk-container-id-1 input.sk-toggleable__control:checked~div.sk-toggleable__content {max-height: 200px;max-width: 100%;overflow: auto;}#sk-container-id-1 input.sk-toggleable__control:checked~label.sk-toggleable__label-arrow:before {content: \"▾\";}#sk-container-id-1 div.sk-estimator input.sk-toggleable__control:checked~label.sk-toggleable__label {background-color: #d4ebff;}#sk-container-id-1 div.sk-label input.sk-toggleable__control:checked~label.sk-toggleable__label {background-color: #d4ebff;}#sk-container-id-1 input.sk-hidden--visually {border: 0;clip: rect(1px 1px 1px 1px);clip: rect(1px, 1px, 1px, 1px);height: 1px;margin: -1px;overflow: hidden;padding: 0;position: absolute;width: 1px;}#sk-container-id-1 div.sk-estimator {font-family: monospace;background-color: #f0f8ff;border: 1px dotted black;border-radius: 0.25em;box-sizing: border-box;margin-bottom: 0.5em;}#sk-container-id-1 div.sk-estimator:hover {background-color: #d4ebff;}#sk-container-id-1 div.sk-parallel-item::after {content: \"\";width: 100%;border-bottom: 1px solid gray;flex-grow: 1;}#sk-container-id-1 div.sk-label:hover label.sk-toggleable__label {background-color: #d4ebff;}#sk-container-id-1 div.sk-serial::before {content: \"\";position: absolute;border-left: 1px solid gray;box-sizing: border-box;top: 0;bottom: 0;left: 50%;z-index: 0;}#sk-container-id-1 div.sk-serial {display: flex;flex-direction: column;align-items: center;background-color: white;padding-right: 0.2em;padding-left: 0.2em;position: relative;}#sk-container-id-1 div.sk-item {position: relative;z-index: 1;}#sk-container-id-1 div.sk-parallel {display: flex;align-items: stretch;justify-content: center;background-color: white;position: relative;}#sk-container-id-1 div.sk-item::before, #sk-container-id-1 div.sk-parallel-item::before {content: \"\";position: absolute;border-left: 1px solid gray;box-sizing: border-box;top: 0;bottom: 0;left: 50%;z-index: -1;}#sk-container-id-1 div.sk-parallel-item {display: flex;flex-direction: column;z-index: 1;position: relative;background-color: white;}#sk-container-id-1 div.sk-parallel-item:first-child::after {align-self: flex-end;width: 50%;}#sk-container-id-1 div.sk-parallel-item:last-child::after {align-self: flex-start;width: 50%;}#sk-container-id-1 div.sk-parallel-item:only-child::after {width: 0;}#sk-container-id-1 div.sk-dashed-wrapped {border: 1px dashed gray;margin: 0 0.4em 0.5em 0.4em;box-sizing: border-box;padding-bottom: 0.4em;background-color: white;}#sk-container-id-1 div.sk-label label {font-family: monospace;font-weight: bold;display: inline-block;line-height: 1.2em;}#sk-container-id-1 div.sk-label-container {text-align: center;}#sk-container-id-1 div.sk-container {/* jupyter's `normalize.less` sets `[hidden] { display: none; }` but bootstrap.min.css set `[hidden] { display: none !important; }` so we also need the `!important` here to be able to override the default hidden behavior on the sphinx rendered scikit-learn.org. See: https://github.com/scikit-learn/scikit-learn/issues/21755 */display: inline-block !important;position: relative;}#sk-container-id-1 div.sk-text-repr-fallback {display: none;}</style><div id=\"sk-container-id-1\" class=\"sk-top-container\"><div class=\"sk-text-repr-fallback\"><pre>LinearRegression()</pre><b>In a Jupyter environment, please rerun this cell to show the HTML representation or trust the notebook. <br />On GitHub, the HTML representation is unable to render, please try loading this page with nbviewer.org.</b></div><div class=\"sk-container\" hidden><div class=\"sk-item\"><div class=\"sk-estimator sk-toggleable\"><input class=\"sk-toggleable__control sk-hidden--visually\" id=\"sk-estimator-id-1\" type=\"checkbox\" checked><label for=\"sk-estimator-id-1\" class=\"sk-toggleable__label sk-toggleable__label-arrow\">LinearRegression</label><div class=\"sk-toggleable__content\"><pre>LinearRegression()</pre></div></div></div></div></div>"
      ],
      "text/plain": [
       "LinearRegression()"
      ]
     },
     "execution_count": 150,
     "metadata": {},
     "output_type": "execute_result"
    }
   ],
   "source": [
    "#Train the model\n",
    "lr.fit(x_train,y_train)"
   ]
  },
  {
   "cell_type": "code",
   "execution_count": 156,
   "id": "9515f73d",
   "metadata": {},
   "outputs": [
    {
     "name": "stdout",
     "output_type": "stream",
     "text": [
      "0.9042173834952026\n"
     ]
    }
   ],
   "source": [
    "pred_test=lr.predict(x_test)\n",
    "print(r2_score(y_test,pred_test))"
   ]
  },
  {
   "cell_type": "markdown",
   "id": "30ebecca",
   "metadata": {},
   "source": [
    "#  Cross Validation of the Model"
   ]
  },
  {
   "cell_type": "code",
   "execution_count": 161,
   "id": "c68c92aa",
   "metadata": {},
   "outputs": [],
   "source": [
    "train_accuracy=r2_score(y_train,x_pred)\n",
    "test_accuracy=r2_score(y_test,y_pred)\n",
    "\n",
    "from sklearn.model_selection import cross_val_score"
   ]
  },
  {
   "cell_type": "code",
   "execution_count": 164,
   "id": "82db056f",
   "metadata": {},
   "outputs": [
    {
     "name": "stdout",
     "output_type": "stream",
     "text": [
      "At cross fold 2 the CV Score for training is -0.8911218980191142 and accuracy for testing is -0.934927259900534\n",
      "At cross fold 3 the CV Score for training is -0.8911218980191142 and accuracy for testing is -0.934927259900534\n",
      "At cross fold 4 the CV Score for training is -0.8911218980191142 and accuracy for testing is -0.934927259900534\n",
      "At cross fold 5 the CV Score for training is -0.8911218980191142 and accuracy for testing is -0.934927259900534\n",
      "At cross fold 6 the CV Score for training is -0.8911218980191142 and accuracy for testing is -0.934927259900534\n",
      "At cross fold 7 the CV Score for training is -0.8911218980191142 and accuracy for testing is -0.934927259900534\n",
      "At cross fold 8 the CV Score for training is -0.8911218980191142 and accuracy for testing is -0.934927259900534\n",
      "At cross fold 9 the CV Score for training is -0.8911218980191142 and accuracy for testing is -0.934927259900534\n"
     ]
    }
   ],
   "source": [
    "for j in range(2,10):\n",
    "    cv_score=cross_val_score(lr,feature,target,cv=j)\n",
    "    cv_mean=cv_score.mean()\n",
    "    \n",
    "    print(f\"At cross fold {j} the CV Score for training is {train_accuracy} and accuracy for testing is {test_accuracy}\")"
   ]
  },
  {
   "cell_type": "markdown",
   "id": "d4c66ef3",
   "metadata": {},
   "source": [
    "Since the number of folds dont have such impact on the accuracy and cv_score . So cv=5 is selected.\n",
    "\n",
    "\n",
    "\n",
    "Here we have handled the problem of the overfitting and the underfitting by checking the training and testing score"
   ]
  },
  {
   "cell_type": "code",
   "execution_count": 167,
   "id": "bca11e06",
   "metadata": {},
   "outputs": [
    {
     "data": {
      "image/png": "[encoded data removed]",
      "text/plain": [
       "<Figure size 576x432 with 1 Axes>"
      ]
     },
     "metadata": {
      "needs_background": "light"
     },
     "output_type": "display_data"
    }
   ],
   "source": [
    "import matplotlib.pyplot as plt\n",
    "plt.figure(figsize=(8,6))\n",
    "plt.scatter(x=y_test,y=y_pred,color='r')\n",
    "plt.plot(y_test,y_test,color='b')\n",
    "plt.xlabel(\"Acutal Charges \",fontsize=14)\n",
    "plt.ylabel(\"Predicted Charges \",fontsize=14)\n",
    "plt.title(\"Linear Regression \",fontsize=18)\n",
    "plt.savefig('lr.png')\n",
    "plt.show()"
   ]
  },
  {
   "cell_type": "markdown",
   "id": "feaee725",
   "metadata": {},
   "source": [
    "Best Fit Line is Covering most of the datapoints which show good fit of our model."
   ]
  },
  {
   "cell_type": "markdown",
   "id": "d337bcb5",
   "metadata": {},
   "source": [
    "# Regularization - "
   ]
  },
  {
   "cell_type": "code",
   "execution_count": 168,
   "id": "236c90d4",
   "metadata": {},
   "outputs": [],
   "source": [
    "from sklearn.model_selection import GridSearchCV\n",
    "from sklearn.model_selection import cross_val_score"
   ]
  },
  {
   "cell_type": "code",
   "execution_count": 169,
   "id": "7210db82",
   "metadata": {},
   "outputs": [],
   "source": [
    "import warnings\n",
    "warnings.filterwarnings('ignore')"
   ]
  },
  {
   "cell_type": "code",
   "execution_count": 175,
   "id": "d22789b4",
   "metadata": {},
   "outputs": [
    {
     "name": "stdout",
     "output_type": "stream",
     "text": [
      "{'alpha': 1, 'random_state': 0}\n"
     ]
    }
   ],
   "source": [
    "from sklearn.linear_model import Lasso\n",
    "parameter={'alpha':[.0001,.001,.01,.1,1,10],\n",
    "          'random_state':list(range(0,10))}\n",
    "ls=Lasso()\n",
    "clf=GridSearchCV(ls,parameter)\n",
    "clf.fit(x_train,y_train)\n",
    "print(clf.best_params_)"
   ]
  },
  {
   "cell_type": "code",
   "execution_count": 177,
   "id": "9cbc0115",
   "metadata": {},
   "outputs": [
    {
     "data": {
      "text/plain": [
       "90.42835075238867"
      ]
     },
     "execution_count": 177,
     "metadata": {},
     "output_type": "execute_result"
    }
   ],
   "source": [
    "#Final Model accuracy\n",
    "ls=Lasso(alpha=1,random_state=0)\n",
    "ls.fit(x_train,y_train)\n",
    "ls_score_training=ls.score(x_train,y_train)\n",
    "pred_ls=ls.predict(x_test)\n",
    "ls_score_training*100"
   ]
  },
  {
   "cell_type": "code",
   "execution_count": 178,
   "id": "2a22fc8e",
   "metadata": {},
   "outputs": [],
   "source": [
    "pred_ls=ls.predict(x_test)"
   ]
  },
  {
   "cell_type": "code",
   "execution_count": 179,
   "id": "d606781a",
   "metadata": {},
   "outputs": [
    {
     "data": {
      "text/plain": [
       "90.42026267132482"
      ]
     },
     "execution_count": 179,
     "metadata": {},
     "output_type": "execute_result"
    }
   ],
   "source": [
    "lss=r2_score(y_test,pred_ls)\n",
    "lss*100"
   ]
  },
  {
   "cell_type": "code",
   "execution_count": 181,
   "id": "18557c37",
   "metadata": {},
   "outputs": [
    {
     "data": {
      "text/plain": [
       "90.36629382160928"
      ]
     },
     "execution_count": 181,
     "metadata": {},
     "output_type": "execute_result"
    }
   ],
   "source": [
    "cv_score=cross_val_score(ls,feature,target,cv=5)\n",
    "cv_mean=cv_score.mean()\n",
    "cv_mean * 100"
   ]
  },
  {
   "cell_type": "markdown",
   "id": "dd2ccfa0",
   "metadata": {},
   "source": [
    "# Ensemble Technique"
   ]
  },
  {
   "cell_type": "code",
   "execution_count": 184,
   "id": "1a477a55",
   "metadata": {},
   "outputs": [
    {
     "name": "stdout",
     "output_type": "stream",
     "text": [
      "{'criterion': 'mse', 'max_features': 'auto'}\n"
     ]
    }
   ],
   "source": [
    "from sklearn.model_selection import GridSearchCV\n",
    "from sklearn.ensemble import RandomForestRegressor\n",
    "\n",
    "parameter={'criterion':['mse','mae'],\n",
    "          'max_features':['auto','sqrt','log2']}\n",
    "\n",
    "\n",
    "\n",
    "rf=RandomForestRegressor()\n",
    "clf=GridSearchCV(rf,parameter)\n",
    "clf.fit(x_train,y_train)\n",
    "print(clf.best_params_)"
   ]
  },
  {
   "cell_type": "code",
   "execution_count": 188,
   "id": "b76a2a90",
   "metadata": {},
   "outputs": [
    {
     "name": "stdout",
     "output_type": "stream",
     "text": [
      "R2 Score 99.88481610702958\n",
      "Cross Val Score 99.87347737041293\n"
     ]
    }
   ],
   "source": [
    "rf=RandomForestRegressor(criterion='mse',max_features='auto')\n",
    "rf.fit(x_train,y_train)\n",
    "rf.score(x_train,y_train)\n",
    "pred_decision=rf.predict(x_test)\n",
    "rfs=r2_score(y_test,pred_decision)\n",
    "print(\"R2 Score\",rfs*100)\n",
    "rfs_score=cross_val_score(rf,feature,target,cv=5)\n",
    "rfc=rfs_score.mean()\n",
    "print('Cross Val Score',rfc*100)"
   ]
  },
  {
   "cell_type": "markdown",
   "id": "6fd549ec",
   "metadata": {},
   "source": [
    "We are getting model accuracy and cross validatiion both as 99.8% which shows our model is performing extremly well."
   ]
  },
  {
   "cell_type": "code",
   "execution_count": 189,
   "id": "fda431f4",
   "metadata": {},
   "outputs": [],
   "source": [
    "import pickle\n",
    "filename=('churn.pkl')\n",
    "pickle.dump(rf,open(filename,'wb'))"
   ]
  },
  {
   "cell_type": "markdown",
   "id": "493d2f2c",
   "metadata": {},
   "source": [
    "# Conclusion"
   ]
  },
  {
   "cell_type": "code",
   "execution_count": 191,
   "id": "297cd631",
   "metadata": {},
   "outputs": [
    {
     "name": "stdout",
     "output_type": "stream",
     "text": [
      "99.88481610702958\n"
     ]
    }
   ],
   "source": [
    "loaded_model=pickle.load(open('churn.pkl','rb'))\n",
    "result=loaded_model.score(x_test,y_test)\n",
    "print(result*100)"
   ]
  },
  {
   "cell_type": "code",
   "execution_count": 193,
   "id": "ef7f309c",
   "metadata": {},
   "outputs": [],
   "source": [
    "conclusion=pd.DataFrame([loaded_model.predict(x_train)[:],pred_decision[:]],index=['predicted','original'])"
   ]
  },
  {
   "cell_type": "code",
   "execution_count": 194,
   "id": "8da80b44",
   "metadata": {},
   "outputs": [
    {
     "data": {
      "text/html": [
       "<div>\n",
       "<style scoped>\n",
       "    .dataframe tbody tr th:only-of-type {\n",
       "        vertical-align: middle;\n",
       "    }\n",
       "\n",
       "    .dataframe tbody tr th {\n",
       "        vertical-align: top;\n",
       "    }\n",
       "\n",
       "    .dataframe thead th {\n",
       "        text-align: right;\n",
       "    }\n",
       "</style>\n",
       "<table border=\"1\" class=\"dataframe\">\n",
       "  <thead>\n",
       "    <tr style=\"text-align: right;\">\n",
       "      <th></th>\n",
       "      <th>0</th>\n",
       "      <th>1</th>\n",
       "      <th>2</th>\n",
       "      <th>3</th>\n",
       "      <th>4</th>\n",
       "      <th>5</th>\n",
       "      <th>6</th>\n",
       "      <th>7</th>\n",
       "      <th>8</th>\n",
       "      <th>9</th>\n",
       "      <th>...</th>\n",
       "      <th>5624</th>\n",
       "      <th>5625</th>\n",
       "      <th>5626</th>\n",
       "      <th>5627</th>\n",
       "      <th>5628</th>\n",
       "      <th>5629</th>\n",
       "      <th>5630</th>\n",
       "      <th>5631</th>\n",
       "      <th>5632</th>\n",
       "      <th>5633</th>\n",
       "    </tr>\n",
       "  </thead>\n",
       "  <tbody>\n",
       "    <tr>\n",
       "      <th>predicted</th>\n",
       "      <td>1131.1680</td>\n",
       "      <td>8090.0255</td>\n",
       "      <td>4050.5900</td>\n",
       "      <td>428.3150</td>\n",
       "      <td>1225.7470</td>\n",
       "      <td>111.4955</td>\n",
       "      <td>2855.4715</td>\n",
       "      <td>35.5035</td>\n",
       "      <td>20.105</td>\n",
       "      <td>64.4910</td>\n",
       "      <td>...</td>\n",
       "      <td>769.7995</td>\n",
       "      <td>3922.353</td>\n",
       "      <td>141.382</td>\n",
       "      <td>1552.871</td>\n",
       "      <td>7543.31</td>\n",
       "      <td>4091.092</td>\n",
       "      <td>341.886</td>\n",
       "      <td>3424.4325</td>\n",
       "      <td>3106.7475</td>\n",
       "      <td>1676.1965</td>\n",
       "    </tr>\n",
       "    <tr>\n",
       "      <th>original</th>\n",
       "      <td>909.7805</td>\n",
       "      <td>3024.9290</td>\n",
       "      <td>1661.0755</td>\n",
       "      <td>1657.7175</td>\n",
       "      <td>3650.9265</td>\n",
       "      <td>65.7790</td>\n",
       "      <td>940.8110</td>\n",
       "      <td>504.1335</td>\n",
       "      <td>5423.829</td>\n",
       "      <td>187.4415</td>\n",
       "      <td>...</td>\n",
       "      <td>NaN</td>\n",
       "      <td>NaN</td>\n",
       "      <td>NaN</td>\n",
       "      <td>NaN</td>\n",
       "      <td>NaN</td>\n",
       "      <td>NaN</td>\n",
       "      <td>NaN</td>\n",
       "      <td>NaN</td>\n",
       "      <td>NaN</td>\n",
       "      <td>NaN</td>\n",
       "    </tr>\n",
       "  </tbody>\n",
       "</table>\n",
       "<p>2 rows × 5634 columns</p>\n",
       "</div>"
      ],
      "text/plain": [
       "                0          1          2          3          4         5     \\\n",
       "predicted  1131.1680  8090.0255  4050.5900   428.3150  1225.7470  111.4955   \n",
       "original    909.7805  3024.9290  1661.0755  1657.7175  3650.9265   65.7790   \n",
       "\n",
       "                6         7         8         9     ...      5624      5625  \\\n",
       "predicted  2855.4715   35.5035    20.105   64.4910  ...  769.7995  3922.353   \n",
       "original    940.8110  504.1335  5423.829  187.4415  ...       NaN       NaN   \n",
       "\n",
       "              5626      5627     5628      5629     5630       5631  \\\n",
       "predicted  141.382  1552.871  7543.31  4091.092  341.886  3424.4325   \n",
       "original       NaN       NaN      NaN       NaN      NaN        NaN   \n",
       "\n",
       "                5632       5633  \n",
       "predicted  3106.7475  1676.1965  \n",
       "original         NaN        NaN  \n",
       "\n",
       "[2 rows x 5634 columns]"
      ]
     },
     "execution_count": 194,
     "metadata": {},
     "output_type": "execute_result"
    }
   ],
   "source": [
    "conclusion"
   ]
  },
  {
   "cell_type": "code",
   "execution_count": null,
   "id": "b2ecb292",
   "metadata": {},
   "outputs": [],
   "source": [
    "#Student of DataScience\n",
    "#Student of DataTrained- Saurav\n",
    "#Date-19-10-22\n",
    "#Time - 21:12"
   ]
  }
 ],
 "metadata": {
  "kernelspec": {
   "display_name": "Python 3 (ipykernel)",
   "language": "python",
   "name": "python3"
  },
  "language_info": {
   "codemirror_mode": {
    "name": "ipython",
    "version": 3
   },
   "file_extension": ".py",
   "mimetype": "text/x-python",
   "name": "python",
   "nbconvert_exporter": "python",
   "pygments_lexer": "ipython3",
   "version": "3.9.12"
  }
 },
 "nbformat": 4,
 "nbformat_minor": 5
}
